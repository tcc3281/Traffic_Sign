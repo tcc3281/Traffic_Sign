{
 "cells": [
  {
   "cell_type": "code",
   "id": "initial_id",
   "metadata": {
    "collapsed": true,
    "ExecuteTime": {
     "end_time": "2025-02-12T09:26:19.060817Z",
     "start_time": "2025-02-12T09:26:19.048258Z"
    }
   },
   "source": [
    "import pandas as pd\n",
    "import matplotlib.pyplot as plt\n",
    "import module.process_signs as ps\n",
    "import cv2\n",
    "import os\n",
    "import numpy as np"
   ],
   "outputs": [],
   "execution_count": 4
  },
  {
   "metadata": {},
   "cell_type": "markdown",
   "source": "### Data 1",
   "id": "4bc573078c6f4fac"
  },
  {
   "metadata": {
    "ExecuteTime": {
     "end_time": "2025-02-12T09:37:53.652128Z",
     "start_time": "2025-02-12T09:26:19.079203Z"
    }
   },
   "cell_type": "code",
   "source": [
    "path= 'dataset/train/'\n",
    "df = pd.DataFrame()\n",
    "\n",
    "for i in range(15):\n",
    "    temp_df=ps.load_data(path+str(i))\n",
    "    temp_df['label']=i\n",
    "    df=pd.concat([df,temp_df],ignore_index=True)\n",
    "\n",
    "df"
   ],
   "id": "d285070180804e52",
   "outputs": [
    {
     "data": {
      "text/plain": [
       "                                                filename  \\\n",
       "0      0_original_00000_00000_00013.png_119b0e78-2b12...   \n",
       "1      0_original_00000_00000_00013.png_194a5743-88d8...   \n",
       "2      0_original_00000_00000_00013.png_2e5590f6-19f4...   \n",
       "3      0_original_00000_00000_00013.png_2f19878b-abf5...   \n",
       "4      0_original_00000_00000_00013.png_32f14952-308a...   \n",
       "...                                                  ...   \n",
       "52495  14_original_016_1_0070.png_de2dcc7f-6805-4719-...   \n",
       "52496  14_original_016_1_0070.png_e5578a27-bcb4-4b57-...   \n",
       "52497  14_original_016_1_0070.png_e7a584a3-934d-4836-...   \n",
       "52498  14_original_016_1_0070.png_e98cfb8a-399a-465c-...   \n",
       "52499  14_original_016_1_0070.png_ecc50806-46a4-451c-...   \n",
       "\n",
       "                                                    path  width  height  label  \n",
       "0      dataset/train/0/0_original_00000_00000_00013.p...    224     224      0  \n",
       "1      dataset/train/0/0_original_00000_00000_00013.p...    224     224      0  \n",
       "2      dataset/train/0/0_original_00000_00000_00013.p...    224     224      0  \n",
       "3      dataset/train/0/0_original_00000_00000_00013.p...    224     224      0  \n",
       "4      dataset/train/0/0_original_00000_00000_00013.p...    224     224      0  \n",
       "...                                                  ...    ...     ...    ...  \n",
       "52495  dataset/train/14/14_original_016_1_0070.png_de...    224     224     14  \n",
       "52496  dataset/train/14/14_original_016_1_0070.png_e5...    224     224     14  \n",
       "52497  dataset/train/14/14_original_016_1_0070.png_e7...    224     224     14  \n",
       "52498  dataset/train/14/14_original_016_1_0070.png_e9...    224     224     14  \n",
       "52499  dataset/train/14/14_original_016_1_0070.png_ec...    224     224     14  \n",
       "\n",
       "[52500 rows x 5 columns]"
      ],
      "text/html": [
       "<div>\n",
       "<style scoped>\n",
       "    .dataframe tbody tr th:only-of-type {\n",
       "        vertical-align: middle;\n",
       "    }\n",
       "\n",
       "    .dataframe tbody tr th {\n",
       "        vertical-align: top;\n",
       "    }\n",
       "\n",
       "    .dataframe thead th {\n",
       "        text-align: right;\n",
       "    }\n",
       "</style>\n",
       "<table border=\"1\" class=\"dataframe\">\n",
       "  <thead>\n",
       "    <tr style=\"text-align: right;\">\n",
       "      <th></th>\n",
       "      <th>filename</th>\n",
       "      <th>path</th>\n",
       "      <th>width</th>\n",
       "      <th>height</th>\n",
       "      <th>label</th>\n",
       "    </tr>\n",
       "  </thead>\n",
       "  <tbody>\n",
       "    <tr>\n",
       "      <th>0</th>\n",
       "      <td>0_original_00000_00000_00013.png_119b0e78-2b12...</td>\n",
       "      <td>dataset/train/0/0_original_00000_00000_00013.p...</td>\n",
       "      <td>224</td>\n",
       "      <td>224</td>\n",
       "      <td>0</td>\n",
       "    </tr>\n",
       "    <tr>\n",
       "      <th>1</th>\n",
       "      <td>0_original_00000_00000_00013.png_194a5743-88d8...</td>\n",
       "      <td>dataset/train/0/0_original_00000_00000_00013.p...</td>\n",
       "      <td>224</td>\n",
       "      <td>224</td>\n",
       "      <td>0</td>\n",
       "    </tr>\n",
       "    <tr>\n",
       "      <th>2</th>\n",
       "      <td>0_original_00000_00000_00013.png_2e5590f6-19f4...</td>\n",
       "      <td>dataset/train/0/0_original_00000_00000_00013.p...</td>\n",
       "      <td>224</td>\n",
       "      <td>224</td>\n",
       "      <td>0</td>\n",
       "    </tr>\n",
       "    <tr>\n",
       "      <th>3</th>\n",
       "      <td>0_original_00000_00000_00013.png_2f19878b-abf5...</td>\n",
       "      <td>dataset/train/0/0_original_00000_00000_00013.p...</td>\n",
       "      <td>224</td>\n",
       "      <td>224</td>\n",
       "      <td>0</td>\n",
       "    </tr>\n",
       "    <tr>\n",
       "      <th>4</th>\n",
       "      <td>0_original_00000_00000_00013.png_32f14952-308a...</td>\n",
       "      <td>dataset/train/0/0_original_00000_00000_00013.p...</td>\n",
       "      <td>224</td>\n",
       "      <td>224</td>\n",
       "      <td>0</td>\n",
       "    </tr>\n",
       "    <tr>\n",
       "      <th>...</th>\n",
       "      <td>...</td>\n",
       "      <td>...</td>\n",
       "      <td>...</td>\n",
       "      <td>...</td>\n",
       "      <td>...</td>\n",
       "    </tr>\n",
       "    <tr>\n",
       "      <th>52495</th>\n",
       "      <td>14_original_016_1_0070.png_de2dcc7f-6805-4719-...</td>\n",
       "      <td>dataset/train/14/14_original_016_1_0070.png_de...</td>\n",
       "      <td>224</td>\n",
       "      <td>224</td>\n",
       "      <td>14</td>\n",
       "    </tr>\n",
       "    <tr>\n",
       "      <th>52496</th>\n",
       "      <td>14_original_016_1_0070.png_e5578a27-bcb4-4b57-...</td>\n",
       "      <td>dataset/train/14/14_original_016_1_0070.png_e5...</td>\n",
       "      <td>224</td>\n",
       "      <td>224</td>\n",
       "      <td>14</td>\n",
       "    </tr>\n",
       "    <tr>\n",
       "      <th>52497</th>\n",
       "      <td>14_original_016_1_0070.png_e7a584a3-934d-4836-...</td>\n",
       "      <td>dataset/train/14/14_original_016_1_0070.png_e7...</td>\n",
       "      <td>224</td>\n",
       "      <td>224</td>\n",
       "      <td>14</td>\n",
       "    </tr>\n",
       "    <tr>\n",
       "      <th>52498</th>\n",
       "      <td>14_original_016_1_0070.png_e98cfb8a-399a-465c-...</td>\n",
       "      <td>dataset/train/14/14_original_016_1_0070.png_e9...</td>\n",
       "      <td>224</td>\n",
       "      <td>224</td>\n",
       "      <td>14</td>\n",
       "    </tr>\n",
       "    <tr>\n",
       "      <th>52499</th>\n",
       "      <td>14_original_016_1_0070.png_ecc50806-46a4-451c-...</td>\n",
       "      <td>dataset/train/14/14_original_016_1_0070.png_ec...</td>\n",
       "      <td>224</td>\n",
       "      <td>224</td>\n",
       "      <td>14</td>\n",
       "    </tr>\n",
       "  </tbody>\n",
       "</table>\n",
       "<p>52500 rows × 5 columns</p>\n",
       "</div>"
      ]
     },
     "execution_count": 5,
     "metadata": {},
     "output_type": "execute_result"
    }
   ],
   "execution_count": 5
  },
  {
   "metadata": {
    "ExecuteTime": {
     "end_time": "2025-02-12T09:37:53.699965Z",
     "start_time": "2025-02-12T09:37:53.684110Z"
    }
   },
   "cell_type": "code",
   "source": "df.shape",
   "id": "92b60e6d2eb01a8f",
   "outputs": [
    {
     "data": {
      "text/plain": [
       "(52500, 5)"
      ]
     },
     "execution_count": 6,
     "metadata": {},
     "output_type": "execute_result"
    }
   ],
   "execution_count": 6
  },
  {
   "metadata": {},
   "cell_type": "markdown",
   "source": "## Statistics",
   "id": "71fc67d0b29152a2"
  },
  {
   "metadata": {
    "ExecuteTime": {
     "end_time": "2025-02-12T09:37:53.859836Z",
     "start_time": "2025-02-12T09:37:53.838261Z"
    }
   },
   "cell_type": "code",
   "source": "df['label'].value_counts()",
   "id": "7bfde2b499b21489",
   "outputs": [
    {
     "data": {
      "text/plain": [
       "label\n",
       "0     3500\n",
       "1     3500\n",
       "2     3500\n",
       "3     3500\n",
       "4     3500\n",
       "5     3500\n",
       "6     3500\n",
       "7     3500\n",
       "8     3500\n",
       "9     3500\n",
       "10    3500\n",
       "11    3500\n",
       "12    3500\n",
       "13    3500\n",
       "14    3500\n",
       "Name: count, dtype: int64"
      ]
     },
     "execution_count": 7,
     "metadata": {},
     "output_type": "execute_result"
    }
   ],
   "execution_count": 7
  },
  {
   "metadata": {
    "ExecuteTime": {
     "end_time": "2025-02-12T09:37:55.189058Z",
     "start_time": "2025-02-12T09:37:54.013849Z"
    }
   },
   "cell_type": "code",
   "source": [
    "# plot the number of each class\n",
    "df['label'].value_counts().plot(kind='bar')"
   ],
   "id": "41b700323d73f327",
   "outputs": [
    {
     "data": {
      "text/plain": [
       "<Axes: xlabel='label'>"
      ]
     },
     "execution_count": 8,
     "metadata": {},
     "output_type": "execute_result"
    },
    {
     "data": {
      "text/plain": [
       "<Figure size 640x480 with 1 Axes>"
      ],
      "image/png": "[encoded data removed]"
     },
     "metadata": {},
     "output_type": "display_data"
    }
   ],
   "execution_count": 8
  },
  {
   "metadata": {
    "ExecuteTime": {
     "end_time": "2025-02-12T09:37:55.395077Z",
     "start_time": "2025-02-12T09:37:55.355098Z"
    }
   },
   "cell_type": "code",
   "source": "",
   "id": "e7f3476910a7996f",
   "outputs": [],
   "execution_count": null
  }
 ],
 "metadata": {
  "kernelspec": {
   "display_name": "Python 3",
   "language": "python",
   "name": "python3"
  },
  "language_info": {
   "codemirror_mode": {
    "name": "ipython",
    "version": 2
   },
   "file_extension": ".py",
   "mimetype": "text/x-python",
   "name": "python",
   "nbconvert_exporter": "python",
   "pygments_lexer": "ipython2",
   "version": "2.7.6"
  }
 },
 "nbformat": 4,
 "nbformat_minor": 5
}
