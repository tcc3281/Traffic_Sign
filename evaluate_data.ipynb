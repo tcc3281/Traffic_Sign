{
 "cells": [
  {
   "cell_type": "code",
   "id": "initial_id",
   "metadata": {
    "collapsed": true,
    "ExecuteTime": {
     "end_time": "2025-02-11T10:08:50.480067Z",
     "start_time": "2025-02-11T10:08:45.617288Z"
    }
   },
   "source": [
    "import pandas as pd\n",
    "import matplotlib.pyplot as plt\n",
    "import module.process_signs as ps\n",
    "import cv2\n",
    "import os\n",
    "import numpy as np"
   ],
   "outputs": [],
   "execution_count": 1
  },
  {
   "metadata": {},
   "cell_type": "markdown",
   "source": "### Data 1",
   "id": "4bc573078c6f4fac"
  },
  {
   "metadata": {
    "ExecuteTime": {
     "end_time": "2025-02-11T10:11:32.288196Z",
     "start_time": "2025-02-11T10:08:50.491323Z"
    }
   },
   "cell_type": "code",
   "source": [
    "path= 'after_filter/data_1/'\n",
    "df = pd.DataFrame()\n",
    "\n",
    "for i in range(15):\n",
    "    temp_df=ps.load_data(path+str(i))\n",
    "    temp_df['label']=i\n",
    "    df=pd.concat([df,temp_df],ignore_index=True)\n",
    "\n",
    "df"
   ],
   "id": "d285070180804e52",
   "outputs": [
    {
     "data": {
      "text/plain": [
       "                    filename                                          path  \\\n",
       "0      00000_00000_00013.png  after_fillter/data_1/0/00000_00000_00013.png   \n",
       "1      00000_00000_00014.png  after_fillter/data_1/0/00000_00000_00014.png   \n",
       "2      00000_00000_00015.png  after_fillter/data_1/0/00000_00000_00015.png   \n",
       "3      00000_00000_00016.png  after_fillter/data_1/0/00000_00000_00016.png   \n",
       "4      00000_00000_00017.png  after_fillter/data_1/0/00000_00000_00017.png   \n",
       "...                      ...                                           ...   \n",
       "18313         016_1_0066.png        after_fillter/data_1/14/016_1_0066.png   \n",
       "18314         016_1_0067.png        after_fillter/data_1/14/016_1_0067.png   \n",
       "18315         016_1_0068.png        after_fillter/data_1/14/016_1_0068.png   \n",
       "18316         016_1_0069.png        after_fillter/data_1/14/016_1_0069.png   \n",
       "18317         016_1_0070.png        after_fillter/data_1/14/016_1_0070.png   \n",
       "\n",
       "       width  height  label  \n",
       "0        224     224      0  \n",
       "1        224     224      0  \n",
       "2        224     224      0  \n",
       "3        224     224      0  \n",
       "4        224     224      0  \n",
       "...      ...     ...    ...  \n",
       "18313    224     224     14  \n",
       "18314    224     224     14  \n",
       "18315    224     224     14  \n",
       "18316    224     224     14  \n",
       "18317    224     224     14  \n",
       "\n",
       "[18318 rows x 5 columns]"
      ],
      "text/html": [
       "<div>\n",
       "<style scoped>\n",
       "    .dataframe tbody tr th:only-of-type {\n",
       "        vertical-align: middle;\n",
       "    }\n",
       "\n",
       "    .dataframe tbody tr th {\n",
       "        vertical-align: top;\n",
       "    }\n",
       "\n",
       "    .dataframe thead th {\n",
       "        text-align: right;\n",
       "    }\n",
       "</style>\n",
       "<table border=\"1\" class=\"dataframe\">\n",
       "  <thead>\n",
       "    <tr style=\"text-align: right;\">\n",
       "      <th></th>\n",
       "      <th>filename</th>\n",
       "      <th>path</th>\n",
       "      <th>width</th>\n",
       "      <th>height</th>\n",
       "      <th>label</th>\n",
       "    </tr>\n",
       "  </thead>\n",
       "  <tbody>\n",
       "    <tr>\n",
       "      <th>0</th>\n",
       "      <td>00000_00000_00013.png</td>\n",
       "      <td>after_fillter/data_1/0/00000_00000_00013.png</td>\n",
       "      <td>224</td>\n",
       "      <td>224</td>\n",
       "      <td>0</td>\n",
       "    </tr>\n",
       "    <tr>\n",
       "      <th>1</th>\n",
       "      <td>00000_00000_00014.png</td>\n",
       "      <td>after_fillter/data_1/0/00000_00000_00014.png</td>\n",
       "      <td>224</td>\n",
       "      <td>224</td>\n",
       "      <td>0</td>\n",
       "    </tr>\n",
       "    <tr>\n",
       "      <th>2</th>\n",
       "      <td>00000_00000_00015.png</td>\n",
       "      <td>after_fillter/data_1/0/00000_00000_00015.png</td>\n",
       "      <td>224</td>\n",
       "      <td>224</td>\n",
       "      <td>0</td>\n",
       "    </tr>\n",
       "    <tr>\n",
       "      <th>3</th>\n",
       "      <td>00000_00000_00016.png</td>\n",
       "      <td>after_fillter/data_1/0/00000_00000_00016.png</td>\n",
       "      <td>224</td>\n",
       "      <td>224</td>\n",
       "      <td>0</td>\n",
       "    </tr>\n",
       "    <tr>\n",
       "      <th>4</th>\n",
       "      <td>00000_00000_00017.png</td>\n",
       "      <td>after_fillter/data_1/0/00000_00000_00017.png</td>\n",
       "      <td>224</td>\n",
       "      <td>224</td>\n",
       "      <td>0</td>\n",
       "    </tr>\n",
       "    <tr>\n",
       "      <th>...</th>\n",
       "      <td>...</td>\n",
       "      <td>...</td>\n",
       "      <td>...</td>\n",
       "      <td>...</td>\n",
       "      <td>...</td>\n",
       "    </tr>\n",
       "    <tr>\n",
       "      <th>18313</th>\n",
       "      <td>016_1_0066.png</td>\n",
       "      <td>after_fillter/data_1/14/016_1_0066.png</td>\n",
       "      <td>224</td>\n",
       "      <td>224</td>\n",
       "      <td>14</td>\n",
       "    </tr>\n",
       "    <tr>\n",
       "      <th>18314</th>\n",
       "      <td>016_1_0067.png</td>\n",
       "      <td>after_fillter/data_1/14/016_1_0067.png</td>\n",
       "      <td>224</td>\n",
       "      <td>224</td>\n",
       "      <td>14</td>\n",
       "    </tr>\n",
       "    <tr>\n",
       "      <th>18315</th>\n",
       "      <td>016_1_0068.png</td>\n",
       "      <td>after_fillter/data_1/14/016_1_0068.png</td>\n",
       "      <td>224</td>\n",
       "      <td>224</td>\n",
       "      <td>14</td>\n",
       "    </tr>\n",
       "    <tr>\n",
       "      <th>18316</th>\n",
       "      <td>016_1_0069.png</td>\n",
       "      <td>after_fillter/data_1/14/016_1_0069.png</td>\n",
       "      <td>224</td>\n",
       "      <td>224</td>\n",
       "      <td>14</td>\n",
       "    </tr>\n",
       "    <tr>\n",
       "      <th>18317</th>\n",
       "      <td>016_1_0070.png</td>\n",
       "      <td>after_fillter/data_1/14/016_1_0070.png</td>\n",
       "      <td>224</td>\n",
       "      <td>224</td>\n",
       "      <td>14</td>\n",
       "    </tr>\n",
       "  </tbody>\n",
       "</table>\n",
       "<p>18318 rows × 5 columns</p>\n",
       "</div>"
      ]
     },
     "execution_count": 2,
     "metadata": {},
     "output_type": "execute_result"
    }
   ],
   "execution_count": 2
  },
  {
   "metadata": {
    "jupyter": {},
    "ExecuteTime": {
     "start_time": "2025-02-11T10:08:50.491323Z"
    }
   },
   "cell_type": "code",
   "outputs": [],
   "execution_count": null,
   "source": [
    "path= 'after_filter/data_1/'\n",
    "df = pd.DataFrame()\n",
    "\n",
    "for i in range(15):\n",
    "    temp_df=ps.load_data(path+str(i))\n",
    "    temp_df['label']=i\n",
    "    df=pd.concat([df,temp_df],ignore_index=True)\n",
    "\n",
    "df"
   ],
   "id": "f11662c19c595d02"
  },
  {
   "metadata": {
    "ExecuteTime": {
     "end_time": "2025-02-11T10:11:33.790792Z",
     "start_time": "2025-02-11T10:11:33.777578Z"
    }
   },
   "cell_type": "code",
   "source": "df.shape",
   "id": "92b60e6d2eb01a8f",
   "outputs": [
    {
     "data": {
      "text/plain": [
       "(18318, 5)"
      ]
     },
     "execution_count": 3,
     "metadata": {},
     "output_type": "execute_result"
    }
   ],
   "execution_count": 3
  },
  {
   "metadata": {},
   "cell_type": "markdown",
   "source": "## Statistics",
   "id": "71fc67d0b29152a2"
  },
  {
   "metadata": {
    "ExecuteTime": {
     "end_time": "2025-02-11T10:11:33.885875Z",
     "start_time": "2025-02-11T10:11:33.869922Z"
    }
   },
   "cell_type": "code",
   "source": "df['label'].value_counts()",
   "id": "7bfde2b499b21489",
   "outputs": [
    {
     "data": {
      "text/plain": [
       "label\n",
       "4     2058\n",
       "5     2012\n",
       "10    2010\n",
       "2     1857\n",
       "1     1827\n",
       "3     1593\n",
       "9     1470\n",
       "7     1440\n",
       "8     1410\n",
       "13    1272\n",
       "6      630\n",
       "11     324\n",
       "0      143\n",
       "14     142\n",
       "12     130\n",
       "Name: count, dtype: int64"
      ]
     },
     "execution_count": 4,
     "metadata": {},
     "output_type": "execute_result"
    }
   ],
   "execution_count": 4
  },
  {
   "metadata": {
    "ExecuteTime": {
     "end_time": "2025-02-11T10:11:34.340207Z",
     "start_time": "2025-02-11T10:11:33.961745Z"
    }
   },
   "cell_type": "code",
   "source": [
    "# plot the number of each class\n",
    "df['label'].value_counts().plot(kind='bar')"
   ],
   "id": "41b700323d73f327",
   "outputs": [
    {
     "data": {
      "text/plain": [
       "<Axes: xlabel='label'>"
      ]
     },
     "execution_count": 5,
     "metadata": {},
     "output_type": "execute_result"
    },
    {
     "data": {
      "text/plain": [
       "<Figure size 640x480 with 1 Axes>"
      ],
      "image/png": "[encoded data removed]"
     },
     "metadata": {},
     "output_type": "display_data"
    }
   ],
   "execution_count": 5
  },
  {
   "metadata": {
    "ExecuteTime": {
     "end_time": "2025-02-11T10:11:34.417770Z",
     "start_time": "2025-02-11T10:11:34.407062Z"
    }
   },
   "cell_type": "code",
   "source": "",
   "id": "e7f3476910a7996f",
   "outputs": [],
   "execution_count": null
  }
 ],
 "metadata": {
  "kernelspec": {
   "display_name": "Python 3",
   "language": "python",
   "name": "python3"
  },
  "language_info": {
   "codemirror_mode": {
    "name": "ipython",
    "version": 2
   },
   "file_extension": ".py",
   "mimetype": "text/x-python",
   "name": "python",
   "nbconvert_exporter": "python",
   "pygments_lexer": "ipython2",
   "version": "2.7.6"
  }
 },
 "nbformat": 4,
 "nbformat_minor": 5
}
