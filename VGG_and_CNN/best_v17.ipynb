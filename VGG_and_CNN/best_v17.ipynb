{
 "metadata": {
  "kernelspec": {
   "display_name": "Python 3",
   "language": "python",
   "name": "python3"
  },
  "language_info": {
   "name": "python",
   "version": "3.10.12",
   "mimetype": "text/x-python",
   "codemirror_mode": {
    "name": "ipython",
    "version": 3
   },
   "pygments_lexer": "ipython3",
   "nbconvert_exporter": "python",
   "file_extension": ".py"
  },
  "kaggle": {
   "accelerator": "nvidiaTeslaT4",
   "dataSources": [
    {
     "sourceId": 10730605,
     "sourceType": "datasetVersion",
     "datasetId": 6652833
    }
   ],
   "dockerImageVersionId": 30886,
   "isInternetEnabled": true,
   "language": "python",
   "sourceType": "notebook",
   "isGpuEnabled": true
  }
 },
 "nbformat_minor": 4,
 "nbformat": 4,
 "cells": [
  {
   "cell_type": "markdown",
   "source": "## Model",
   "metadata": {}
  },
  {
   "cell_type": "code",
   "source": [
    "import tensorflow as tf\n",
    "from tensorflow.keras.models import Sequential\n",
    "from tensorflow.keras.layers import Conv2D, MaxPooling2D, Flatten, Dense, Dropout\n",
    "from tensorflow.keras.preprocessing.image import ImageDataGenerator\n",
    "import matplotlib.pyplot as plt\n",
    "import numpy as np\n",
    "from sklearn.metrics import confusion_matrix, classification_report\n",
    "import seaborn as sns"
   ],
   "metadata": {
    "trusted": true,
    "execution": {
     "iopub.status.busy": "2025-02-12T14:20:11.518433Z",
     "iopub.execute_input": "2025-02-12T14:20:11.518738Z",
     "iopub.status.idle": "2025-02-12T14:20:11.523228Z",
     "shell.execute_reply.started": "2025-02-12T14:20:11.518715Z",
     "shell.execute_reply": "2025-02-12T14:20:11.522338Z"
    },
    "ExecuteTime": {
     "end_time": "2025-03-05T10:46:34.900607Z",
     "start_time": "2025-03-05T10:46:34.884253Z"
    }
   },
   "outputs": [],
   "execution_count": 9
  },
  {
   "cell_type": "code",
   "source": "!nvidia-smi",
   "metadata": {
    "trusted": true,
    "execution": {
     "iopub.status.busy": "2025-02-12T14:20:11.524478Z",
     "iopub.execute_input": "2025-02-12T14:20:11.524781Z",
     "iopub.status.idle": "2025-02-12T14:20:11.807116Z",
     "shell.execute_reply.started": "2025-02-12T14:20:11.524752Z",
     "shell.execute_reply": "2025-02-12T14:20:11.806047Z"
    },
    "ExecuteTime": {
     "end_time": "2025-03-05T10:46:35.044267Z",
     "start_time": "2025-03-05T10:46:34.965595Z"
    }
   },
   "outputs": [
    {
     "name": "stderr",
     "output_type": "stream",
     "text": [
      "'nvidia-smi' is not recognized as an internal or external command,\n",
      "operable program or batch file.\n"
     ]
    }
   ],
   "execution_count": 10
  },
  {
   "cell_type": "code",
   "source": "print(\"GPU is\", \"available\" if tf.config.list_physical_devices('GPU') else \"NOT AVAILABLE\")",
   "metadata": {
    "trusted": true,
    "execution": {
     "iopub.status.busy": "2025-02-12T14:20:11.808771Z",
     "iopub.execute_input": "2025-02-12T14:20:11.809079Z",
     "iopub.status.idle": "2025-02-12T14:20:11.813544Z",
     "shell.execute_reply.started": "2025-02-12T14:20:11.809025Z",
     "shell.execute_reply": "2025-02-12T14:20:11.812711Z"
    },
    "ExecuteTime": {
     "end_time": "2025-03-05T10:46:35.133488Z",
     "start_time": "2025-03-05T10:46:35.107577Z"
    }
   },
   "outputs": [
    {
     "name": "stdout",
     "output_type": "stream",
     "text": [
      "GPU is NOT AVAILABLE\n"
     ]
    }
   ],
   "execution_count": 11
  },
  {
   "cell_type": "code",
   "source": [
    "# Tham số\n",
    "IMG_SIZE = (224, 224)  # Điều chỉnh theo kích thước ảnh của bạn\n",
    "BATCH_SIZE = 32\n",
    "EPOCHS = 50\n",
    "NUM_CLASSES = 15  # Thay đổi theo số lượng class thực tế\n",
    "\n",
    "optimizer = tf.keras.optimizers.Adam(learning_rate=0.01, beta_1=0.9, beta_2=0.999)\n",
    "\n",
    "TRAIN_PATH='../dataset/train'\n",
    "VAL_PATH='../dataset/val/'\n",
    "TEST_PATH='../dataset/test/'\n",
    "NOISE_PATH='../dataset/noise_2/'\n",
    "MODEL_PATH='../model/best_model_v17.keras'"
   ],
   "metadata": {
    "trusted": true,
    "execution": {
     "iopub.status.busy": "2025-02-12T14:20:11.815268Z",
     "iopub.execute_input": "2025-02-12T14:20:11.815521Z",
     "iopub.status.idle": "2025-02-12T14:20:11.825652Z",
     "shell.execute_reply.started": "2025-02-12T14:20:11.815495Z",
     "shell.execute_reply": "2025-02-12T14:20:11.825055Z"
    },
    "ExecuteTime": {
     "end_time": "2025-03-05T10:46:35.194433Z",
     "start_time": "2025-03-05T10:46:35.166121Z"
    }
   },
   "outputs": [],
   "execution_count": 12
  },
  {
   "cell_type": "code",
   "source": [
    "# Tạo data generators\n",
    "train_datagen = ImageDataGenerator(\n",
    "    rescale=1./224,\n",
    "    rotation_range=20,\n",
    "    zoom_range=0.2,\n",
    "    horizontal_flip=True\n",
    ")\n",
    "\n",
    "val_test_datagen = ImageDataGenerator(rescale=1./224)\n",
    "\n",
    "# Tạo data loaders\n",
    "train_generator = train_datagen.flow_from_directory(\n",
    "    TRAIN_PATH,\n",
    "    target_size=IMG_SIZE,\n",
    "    batch_size=BATCH_SIZE,\n",
    "    class_mode='categorical'\n",
    ")\n",
    "\n",
    "val_generator = val_test_datagen.flow_from_directory(\n",
    "    VAL_PATH,\n",
    "    target_size=IMG_SIZE,\n",
    "    batch_size=BATCH_SIZE,\n",
    "    class_mode='categorical'\n",
    ")\n",
    "\n",
    "test_generator = val_test_datagen.flow_from_directory(\n",
    "    TEST_PATH,\n",
    "    target_size=IMG_SIZE,\n",
    "    batch_size=BATCH_SIZE,\n",
    "    class_mode='categorical',\n",
    "    shuffle=False\n",
    ")\n",
    "\n",
    "noise_generator = val_test_datagen.flow_from_directory(\n",
    "    NOISE_PATH,\n",
    "    target_size=IMG_SIZE,\n",
    "    batch_size=BATCH_SIZE,\n",
    "    class_mode='categorical',\n",
    "    shuffle=False\n",
    ")"
   ],
   "metadata": {
    "execution": {
     "iopub.status.busy": "2025-02-12T14:20:11.826950Z",
     "iopub.execute_input": "2025-02-12T14:20:11.827202Z",
     "iopub.status.idle": "2025-02-12T14:20:34.734791Z",
     "shell.execute_reply.started": "2025-02-12T14:20:11.827182Z",
     "shell.execute_reply": "2025-02-12T14:20:34.734071Z"
    },
    "ExecuteTime": {
     "end_time": "2025-03-05T10:46:39.552812Z",
     "start_time": "2025-03-05T10:46:35.216786Z"
    }
   },
   "outputs": [
    {
     "name": "stdout",
     "output_type": "stream",
     "text": [
      "Found 52500 images belonging to 15 classes.\n",
      "Found 11250 images belonging to 15 classes.\n",
      "Found 11250 images belonging to 15 classes.\n",
      "Found 5000 images belonging to 15 classes.\n"
     ]
    }
   ],
   "execution_count": 13
  },
  {
   "metadata": {
    "ExecuteTime": {
     "end_time": "2025-03-05T10:46:40.134414Z",
     "start_time": "2025-03-05T10:46:39.568879Z"
    }
   },
   "cell_type": "code",
   "source": [
    "# read Model\n",
    "model=tf.keras.models.load_model(MODEL_PATH)"
   ],
   "outputs": [],
   "execution_count": 14
  },
  {
   "metadata": {
    "ExecuteTime": {
     "end_time": "2025-03-05T10:57:20.605951Z",
     "start_time": "2025-03-05T10:46:40.154952Z"
    }
   },
   "cell_type": "code",
   "source": [
    "# Đánh giá trên noise set\n",
    "noise_loss, noise_acc = model.evaluate(noise_generator)\n",
    "print(f'Noise loss: {noise_loss}')\n",
    "print(f'Noise accuracy: {noise_acc}')"
   ],
   "outputs": [
    {
     "name": "stdout",
     "output_type": "stream",
     "text": [
      "\u001B[1m157/157\u001B[0m \u001B[32m━━━━━━━━━━━━━━━━━━━━\u001B[0m\u001B[37m\u001B[0m \u001B[1m640s\u001B[0m 4s/step - accuracy: 0.5105 - loss: 2.5991\n",
      "Noise loss: 1.7433830499649048\n",
      "Noise accuracy: 0.5532000064849854\n"
     ]
    }
   ],
   "execution_count": 15
  },
  {
   "metadata": {
    "ExecuteTime": {
     "end_time": "2025-03-05T11:47:46.381646Z",
     "start_time": "2025-03-05T10:57:20.660089Z"
    }
   },
   "cell_type": "code",
   "source": [
    "# print error on train and validation\n",
    "# train_loss, train_accuracy = model.evaluate(train_generator)\n",
    "val_loss, val_accuracy = model.evaluate(val_generator)\n",
    "test_loss, test_accuracy = model.evaluate(test_generator)\n",
    "\n",
    "# print(f'Train loss: {train_loss}, Train accuracy: {train_accuracy}')\n",
    "print(f'Validation loss: {val_loss}, Validation accuracy: {val_accuracy}')\n",
    "print(f'Test loss: {test_loss}, Test accuracy: {test_accuracy}')"
   ],
   "outputs": [
    {
     "name": "stdout",
     "output_type": "stream",
     "text": [
      "\u001B[1m352/352\u001B[0m \u001B[32m━━━━━━━━━━━━━━━━━━━━\u001B[0m\u001B[37m\u001B[0m \u001B[1m1491s\u001B[0m 4s/step - accuracy: 0.8961 - loss: 0.2952\n",
      "\u001B[1m352/352\u001B[0m \u001B[32m━━━━━━━━━━━━━━━━━━━━\u001B[0m\u001B[37m\u001B[0m \u001B[1m1534s\u001B[0m 4s/step - accuracy: 0.9279 - loss: 0.2198\n",
      "Validation loss: 0.29956409335136414, Validation accuracy: 0.8907555341720581\n",
      "Test loss: 0.31537240743637085, Test accuracy: 0.8848000168800354\n"
     ]
    }
   ],
   "execution_count": 16
  },
  {
   "metadata": {},
   "cell_type": "code",
   "outputs": [],
   "execution_count": null,
   "source": [
    "# Chuyển đổi mô hình sang định dạng TensorFlow Lite với lượng tử hóa\n",
    "converter = tf.lite.TFLiteConverter.from_keras_model(model)\n",
    "converter.optimizations = [tf.lite.Optimize.DEFAULT]\n",
    "tflite_model = converter.convert()\n",
    "\n",
    "# Lưu mô hình đã lượng tử hóa\n",
    "with open('model_quantized.tflite', 'wb') as f:\n",
    "    f.write(tflite_model)"
   ]
  },
  {
   "cell_type": "markdown",
   "source": "## Plot",
   "metadata": {}
  },
  {
   "metadata": {},
   "cell_type": "markdown",
   "source": "### Confusion matrix"
  },
  {
   "cell_type": "code",
   "source": [
    "# Dự đoán\n",
    "Y_pred = model.predict(test_generator)\n",
    "y_pred = np.argmax(Y_pred, axis=1)\n",
    "\n",
    "# Labels\n",
    "labels = test_generator.class_indices\n",
    "labels = dict((v,k) for k,v in labels.items())\n",
    "predictions = [labels[k] for k in y_pred]\n",
    "\n",
    "# Thực tế\n",
    "y_test = test_generator.classes\n",
    "true_labels = [labels[k] for k in y_test]\n",
    "\n",
    "# Confusion matrix\n",
    "cm = confusion_matrix(true_labels, predictions)\n",
    "plt.figure(figsize=(10, 10))\n",
    "sns.heatmap(cm, annot=True, fmt='d', xticklabels=labels.values(), yticklabels=labels.values(), cmap='Greens')\n",
    "plt.title('Confusion matrix')\n",
    "plt.ylabel('Actual')\n",
    "plt.xlabel('Predicted')\n",
    "plt.show()"
   ],
   "metadata": {
    "trusted": true,
    "execution": {
     "execution_failed": "2025-02-12T14:26:52.128Z"
    },
    "jupyter": {
     "is_executing": true
    },
    "ExecuteTime": {
     "start_time": "2025-03-05T11:47:46.492064Z"
    }
   },
   "outputs": [
    {
     "name": "stdout",
     "output_type": "stream",
     "text": [
      "\u001B[1m  6/352\u001B[0m \u001B[37m━━━━━━━━━━━━━━━━━━━━\u001B[0m \u001B[1m24:03\u001B[0m 4s/step"
     ]
    }
   ],
   "execution_count": null
  },
  {
   "metadata": {},
   "cell_type": "code",
   "outputs": [],
   "execution_count": null,
   "source": "classification_report(true_labels, predictions)"
  },
  {
   "metadata": {
    "ExecuteTime": {
     "end_time": "2025-03-05T10:46:32.860162100Z",
     "start_time": "2025-02-15T16:52:39.551901Z"
    }
   },
   "cell_type": "code",
   "source": [
    "# Dự đoán\n",
    "Y_pred = model.predict(noise_generator)\n",
    "y_pred = np.argmax(Y_pred, axis=1)\n",
    "\n",
    "# Labels\n",
    "labels = noise_generator.class_indices\n",
    "labels = dict((v,k) for k,v in labels.items())\n",
    "predictions = [labels[k] for k in y_pred]\n",
    "\n",
    "# Thực tế\n",
    "y_test = noise_generator.classes\n",
    "true_labels = [labels[k] for k in y_test]\n",
    "\n",
    "# Confusion matrix\n",
    "cm = confusion_matrix(true_labels, predictions)\n",
    "plt.figure(figsize=(10, 10))\n",
    "sns.heatmap(cm, annot=True, fmt='d', xticklabels=labels.values(), yticklabels=labels.values(), cmap='Greens')\n",
    "plt.title('Confusion matrix')\n",
    "plt.ylabel('Actual')\n",
    "plt.xlabel('Predicted')\n",
    "plt.show()"
   ],
   "outputs": [
    {
     "name": "stdout",
     "output_type": "stream",
     "text": [
      "\u001B[1m157/157\u001B[0m \u001B[32m━━━━━━━━━━━━━━━━━━━━\u001B[0m\u001B[37m\u001B[0m \u001B[1m137s\u001B[0m 869ms/step\n"
     ]
    },
    {
     "data": {
      "text/plain": [
       "<Figure size 1000x1000 with 2 Axes>"
      ],
      "image/png": "[encoded data removed]"
     },
     "metadata": {},
     "output_type": "display_data"
    }
   ],
   "execution_count": 11
  },
  {
   "metadata": {},
   "cell_type": "code",
   "outputs": [],
   "execution_count": null,
   "source": "classification_report(true_labels, predictions)"
  },
  {
   "metadata": {
    "ExecuteTime": {
     "end_time": "2025-03-05T10:46:32.860162100Z",
     "start_time": "2025-02-15T16:55:01.403087Z"
    }
   },
   "cell_type": "code",
   "source": [
    "# Dự đoán\n",
    "Y_pred = model.predict(val_generator)\n",
    "y_pred = np.argmax(Y_pred, axis=1)\n",
    "\n",
    "# Labels\n",
    "labels = val_generator.class_indices\n",
    "labels = dict((v,k) for k,v in labels.items())\n",
    "predictions = [labels[k] for k in y_pred]\n",
    "\n",
    "# Thực tế\n",
    "y_test = val_generator.classes\n",
    "true_labels = [labels[k] for k in y_test]\n",
    "\n",
    "# Confusion matrix\n",
    "cm = confusion_matrix(true_labels, predictions)\n",
    "plt.figure(figsize=(10, 10))\n",
    "sns.heatmap(cm, annot=True, fmt='d', xticklabels=labels.values(), yticklabels=labels.values(), cmap='Greens')\n",
    "plt.title('Confusion matrix')\n",
    "plt.ylabel('Actual')\n",
    "plt.xlabel('Predicted')\n",
    "plt.show()"
   ],
   "outputs": [],
   "execution_count": 12
  },
  {
   "metadata": {},
   "cell_type": "code",
   "outputs": [],
   "execution_count": null,
   "source": "classification_report(true_labels, predictions)"
  },
  {
   "metadata": {},
   "cell_type": "code",
   "outputs": [],
   "execution_count": null,
   "source": ""
  }
 ]
}
