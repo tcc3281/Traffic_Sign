{
 "cells": [
  {
   "cell_type": "code",
   "id": "initial_id",
   "metadata": {
    "collapsed": true,
    "ExecuteTime": {
     "end_time": "2025-02-10T09:34:46.042329Z",
     "start_time": "2025-02-10T09:34:46.023240Z"
    }
   },
   "source": [
    "import pandas as pd\n",
    "import os\n",
    "from PIL import Image, ImageOps\n",
    "import matplotlib.pyplot as plt"
   ],
   "outputs": [],
   "execution_count": 43
  },
  {
   "metadata": {},
   "cell_type": "markdown",
   "source": "## Load data",
   "id": "b0be8bd3698b5f14"
  },
  {
   "metadata": {},
   "cell_type": "markdown",
   "source": "### Data 1",
   "id": "4bc573078c6f4fac"
  },
  {
   "metadata": {
    "ExecuteTime": {
     "end_time": "2025-02-10T09:03:08.172900Z",
     "start_time": "2025-02-10T09:03:08.151276Z"
    }
   },
   "cell_type": "code",
   "outputs": [],
   "execution_count": 16,
   "source": [
    "def load_data(folder_path):\n",
    "    # Danh sách để lưu thông tin ảnh\n",
    "    image_data = []\n",
    "    \n",
    "    # Duyệt qua các tệp trong thư mục\n",
    "    for filename in os.listdir(folder_path):\n",
    "        if filename.endswith(('.png', '.jpg', '.jpeg', '.bmp', '.gif')):\n",
    "            # Đường dẫn đầy đủ đến tệp ảnh\n",
    "            img_path = os.path.join(folder_path, filename)\n",
    "            img_path = img_path.replace(\"\\\\\", \"/\")\n",
    "            # Mở ảnh\n",
    "            img = Image.open(img_path)\n",
    "            # Lấy kích thước ảnh\n",
    "            width, height = img.size\n",
    "            # Thêm thông tin ảnh vào danh sách\n",
    "            image_data.append({'filename': filename, 'path': img_path, 'width': width, 'height': height})\n",
    "    \n",
    "    # Tạo DataFrame từ danh sách\n",
    "    df = pd.DataFrame(image_data)\n",
    "    return df"
   ],
   "id": "ad2aa1afb1bbb71f"
  },
  {
   "metadata": {
    "ExecuteTime": {
     "end_time": "2025-02-10T09:03:08.204390Z",
     "start_time": "2025-02-10T09:03:08.196377Z"
    }
   },
   "cell_type": "code",
   "outputs": [],
   "execution_count": 17,
   "source": [
    "def check_path(path):\n",
    "    '''\n",
    "    \n",
    "    :param path: \n",
    "    :return: Boolean\n",
    "    '''\n",
    "    return os.path.exists(path)\n",
    "        "
   ],
   "id": "21aacf5de6840964"
  },
  {
   "metadata": {
    "ExecuteTime": {
     "end_time": "2025-02-10T09:07:14.218092Z",
     "start_time": "2025-02-10T09:03:08.245679Z"
    }
   },
   "cell_type": "code",
   "source": [
    "path='data/data_1/'\n",
    "\n",
    "df_1=pd.DataFrame()\n",
    "\n",
    "for i in range(26):\n",
    "    new_path=path+str(i)\n",
    "    if check_path(new_path):\n",
    "        temp_df=load_data(new_path)\n",
    "        df_1=pd.concat([df_1,temp_df])\n",
    "        \n",
    "df_1.shape"
   ],
   "id": "d285070180804e52",
   "outputs": [
    {
     "data": {
      "text/plain": [
       "(21900, 4)"
      ]
     },
     "execution_count": 18,
     "metadata": {},
     "output_type": "execute_result"
    }
   ],
   "execution_count": 18
  },
  {
   "metadata": {},
   "cell_type": "markdown",
   "source": "### Data 2",
   "id": "66aa258b0c5ff44e"
  },
  {
   "metadata": {
    "ExecuteTime": {
     "end_time": "2025-02-10T09:13:32.943902Z",
     "start_time": "2025-02-10T09:13:15.391226Z"
    }
   },
   "cell_type": "code",
   "source": [
    "path_2='data/data_2/'\n",
    "\n",
    "df_2=pd.DataFrame()\n",
    "\n",
    "for i in range(56):\n",
    "    new_path=path_2+str(i)\n",
    "    if check_path(new_path):\n",
    "        temp_df=load_data(new_path)\n",
    "        df_2=pd.concat([df_2,temp_df])\n",
    "        \n",
    "df_2.shape"
   ],
   "id": "1c9996179f25730c",
   "outputs": [
    {
     "data": {
      "text/plain": [
       "(1666, 4)"
      ]
     },
     "execution_count": 22,
     "metadata": {},
     "output_type": "execute_result"
    }
   ],
   "execution_count": 22
  },
  {
   "metadata": {},
   "cell_type": "code",
   "outputs": [],
   "execution_count": null,
   "source": "df_1.head()",
   "id": "522d499cb8d85433"
  },
  {
   "metadata": {
    "ExecuteTime": {
     "end_time": "2025-02-10T09:12:13.002683Z",
     "start_time": "2025-02-10T09:12:12.989782Z"
    }
   },
   "cell_type": "code",
   "source": "df_2.head()",
   "id": "b8e4485f8716d94d",
   "outputs": [
    {
     "data": {
      "text/plain": [
       "                filename                                 path  width  height\n",
       "0  00000_00000_00000.png  data/data_1/0/00000_00000_00000.png     29      30\n",
       "1  00000_00000_00001.png  data/data_1/0/00000_00000_00001.png     30      30\n",
       "2  00000_00000_00002.png  data/data_1/0/00000_00000_00002.png     30      30\n",
       "3  00000_00000_00003.png  data/data_1/0/00000_00000_00003.png     31      31\n",
       "4  00000_00000_00004.png  data/data_1/0/00000_00000_00004.png     30      32"
      ],
      "text/html": [
       "<div>\n",
       "<style scoped>\n",
       "    .dataframe tbody tr th:only-of-type {\n",
       "        vertical-align: middle;\n",
       "    }\n",
       "\n",
       "    .dataframe tbody tr th {\n",
       "        vertical-align: top;\n",
       "    }\n",
       "\n",
       "    .dataframe thead th {\n",
       "        text-align: right;\n",
       "    }\n",
       "</style>\n",
       "<table border=\"1\" class=\"dataframe\">\n",
       "  <thead>\n",
       "    <tr style=\"text-align: right;\">\n",
       "      <th></th>\n",
       "      <th>filename</th>\n",
       "      <th>path</th>\n",
       "      <th>width</th>\n",
       "      <th>height</th>\n",
       "    </tr>\n",
       "  </thead>\n",
       "  <tbody>\n",
       "    <tr>\n",
       "      <th>0</th>\n",
       "      <td>00000_00000_00000.png</td>\n",
       "      <td>data/data_1/0/00000_00000_00000.png</td>\n",
       "      <td>29</td>\n",
       "      <td>30</td>\n",
       "    </tr>\n",
       "    <tr>\n",
       "      <th>1</th>\n",
       "      <td>00000_00000_00001.png</td>\n",
       "      <td>data/data_1/0/00000_00000_00001.png</td>\n",
       "      <td>30</td>\n",
       "      <td>30</td>\n",
       "    </tr>\n",
       "    <tr>\n",
       "      <th>2</th>\n",
       "      <td>00000_00000_00002.png</td>\n",
       "      <td>data/data_1/0/00000_00000_00002.png</td>\n",
       "      <td>30</td>\n",
       "      <td>30</td>\n",
       "    </tr>\n",
       "    <tr>\n",
       "      <th>3</th>\n",
       "      <td>00000_00000_00003.png</td>\n",
       "      <td>data/data_1/0/00000_00000_00003.png</td>\n",
       "      <td>31</td>\n",
       "      <td>31</td>\n",
       "    </tr>\n",
       "    <tr>\n",
       "      <th>4</th>\n",
       "      <td>00000_00000_00004.png</td>\n",
       "      <td>data/data_1/0/00000_00000_00004.png</td>\n",
       "      <td>30</td>\n",
       "      <td>32</td>\n",
       "    </tr>\n",
       "  </tbody>\n",
       "</table>\n",
       "</div>"
      ]
     },
     "execution_count": 20,
     "metadata": {},
     "output_type": "execute_result"
    }
   ],
   "execution_count": 20
  },
  {
   "metadata": {},
   "cell_type": "markdown",
   "source": "### Data 3",
   "id": "dc1b32d8dbdae072"
  },
  {
   "metadata": {},
   "cell_type": "markdown",
   "source": "## Visualize data",
   "id": "1419dab7db71c514"
  },
  {
   "metadata": {},
   "cell_type": "markdown",
   "source": "### Data 1",
   "id": "94a26cb3ca96bf30"
  },
  {
   "metadata": {
    "ExecuteTime": {
     "end_time": "2025-02-10T09:20:32.067878Z",
     "start_time": "2025-02-10T09:20:32.053143Z"
    }
   },
   "cell_type": "code",
   "source": "df_1['isSquare'] = (df_1['width'] == df_1['height']).astype(int)",
   "id": "926f3ea05be91226",
   "outputs": [],
   "execution_count": 27
  },
  {
   "metadata": {
    "ExecuteTime": {
     "end_time": "2025-02-10T09:17:44.356381Z",
     "start_time": "2025-02-10T09:17:44.097320Z"
    }
   },
   "cell_type": "code",
   "source": [
    "#pie chart for data 1\n",
    "df_1['width'].plot(kind='hist',bins=20)\n",
    "plt.show()"
   ],
   "id": "bdff05bc932646b1",
   "outputs": [
    {
     "data": {
      "text/plain": [
       "<Figure size 640x480 with 1 Axes>"
      ],
      "image/png": "[encoded data removed]"
     },
     "metadata": {},
     "output_type": "display_data"
    }
   ],
   "execution_count": 25
  },
  {
   "metadata": {
    "ExecuteTime": {
     "end_time": "2025-02-10T09:18:06.504928Z",
     "start_time": "2025-02-10T09:18:06.297697Z"
    }
   },
   "cell_type": "code",
   "source": "df_1['height'].plot(kind='hist',bins=20)",
   "id": "3a542ee1a98667ac",
   "outputs": [
    {
     "data": {
      "text/plain": [
       "<Axes: ylabel='Frequency'>"
      ]
     },
     "execution_count": 26,
     "metadata": {},
     "output_type": "execute_result"
    },
    {
     "data": {
      "text/plain": [
       "<Figure size 640x480 with 1 Axes>"
      ],
      "image/png": "[encoded data removed]"
     },
     "metadata": {},
     "output_type": "display_data"
    }
   ],
   "execution_count": 26
  },
  {
   "metadata": {
    "ExecuteTime": {
     "end_time": "2025-02-10T09:20:52.576752Z",
     "start_time": "2025-02-10T09:20:52.472284Z"
    }
   },
   "cell_type": "code",
   "source": [
    "#pie chart for data 1\n",
    "df_1['isSquare'].value_counts().plot(kind='pie')"
   ],
   "id": "9ae3541fe25862a0",
   "outputs": [
    {
     "data": {
      "text/plain": [
       "<Axes: ylabel='count'>"
      ]
     },
     "execution_count": 28,
     "metadata": {},
     "output_type": "execute_result"
    },
    {
     "data": {
      "text/plain": [
       "<Figure size 640x480 with 1 Axes>"
      ],
      "image/png": "[encoded data removed]"
     },
     "metadata": {},
     "output_type": "display_data"
    }
   ],
   "execution_count": 28
  },
  {
   "metadata": {},
   "cell_type": "markdown",
   "source": "### Data 2",
   "id": "21a994915ad56a5a"
  },
  {
   "metadata": {
    "ExecuteTime": {
     "end_time": "2025-02-10T09:21:44.029669Z",
     "start_time": "2025-02-10T09:21:44.020041Z"
    }
   },
   "cell_type": "code",
   "source": "df_2['isSquare'] = (df_2['width'] == df_2['height']).astype(int)",
   "id": "1ce115a5593655f1",
   "outputs": [],
   "execution_count": 29
  },
  {
   "metadata": {
    "ExecuteTime": {
     "end_time": "2025-02-10T09:21:45.110983Z",
     "start_time": "2025-02-10T09:21:44.914942Z"
    }
   },
   "cell_type": "code",
   "source": [
    "#pie chart for data 2\n",
    "df_2['width'].plot(kind='hist',bins=20)"
   ],
   "id": "f929c7b9128975d7",
   "outputs": [
    {
     "data": {
      "text/plain": [
       "<Axes: ylabel='Frequency'>"
      ]
     },
     "execution_count": 30,
     "metadata": {},
     "output_type": "execute_result"
    },
    {
     "data": {
      "text/plain": [
       "<Figure size 640x480 with 1 Axes>"
      ],
      "image/png": "[encoded data removed]"
     },
     "metadata": {},
     "output_type": "display_data"
    }
   ],
   "execution_count": 30
  },
  {
   "metadata": {
    "ExecuteTime": {
     "end_time": "2025-02-10T09:21:48.969206Z",
     "start_time": "2025-02-10T09:21:48.785495Z"
    }
   },
   "cell_type": "code",
   "source": "df_2['height'].plot(kind='hist',bins=20)",
   "id": "6990e9f545cfb1a3",
   "outputs": [
    {
     "data": {
      "text/plain": [
       "<Axes: ylabel='Frequency'>"
      ]
     },
     "execution_count": 31,
     "metadata": {},
     "output_type": "execute_result"
    },
    {
     "data": {
      "text/plain": [
       "<Figure size 640x480 with 1 Axes>"
      ],
      "image/png": "[encoded data removed]"
     },
     "metadata": {},
     "output_type": "display_data"
    }
   ],
   "execution_count": 31
  },
  {
   "metadata": {
    "ExecuteTime": {
     "end_time": "2025-02-10T09:22:04.806077Z",
     "start_time": "2025-02-10T09:22:04.722869Z"
    }
   },
   "cell_type": "code",
   "source": [
    "#pie chart for data 2\n",
    "df_2['isSquare'].value_counts().plot(kind='pie')"
   ],
   "id": "4279b823f3690d9e",
   "outputs": [
    {
     "data": {
      "text/plain": [
       "<Axes: ylabel='count'>"
      ]
     },
     "execution_count": 32,
     "metadata": {},
     "output_type": "execute_result"
    },
    {
     "data": {
      "text/plain": [
       "<Figure size 640x480 with 1 Axes>"
      ],
      "image/png": "[encoded data removed]"
     },
     "metadata": {},
     "output_type": "display_data"
    }
   ],
   "execution_count": 32
  },
  {
   "metadata": {},
   "cell_type": "markdown",
   "source": "## Processing data",
   "id": "5ae59665942acbbd"
  },
  {
   "metadata": {
    "ExecuteTime": {
     "end_time": "2025-02-10T10:00:51.832253Z",
     "start_time": "2025-02-10T10:00:51.800324Z"
    }
   },
   "cell_type": "code",
   "source": [
    "# after_processing_path = 'after/'\n",
    "# \n",
    "# def add_padding(image_path):\n",
    "#     # Mở ảnh\n",
    "#     img = Image.open(image_path)\n",
    "#     \n",
    "#     # Lấy kích thước của ảnh\n",
    "#     width, height = img.size\n",
    "#     \n",
    "#     # Tìm cạnh dài hơn\n",
    "#     max_side = max(width, height)\n",
    "#     \n",
    "#     # Tính toán padding cần thêm\n",
    "#     padding = (\n",
    "#         (max_side - width) // 2,  # Padding trái\n",
    "#         (max_side - height) // 2, # Padding trên\n",
    "#         (max_side - width + 1) // 2,  # Padding phải\n",
    "#         (max_side - height + 1) // 2  # Padding dưới\n",
    "#     )\n",
    "#     \n",
    "#     # Thêm padding vào ảnh\n",
    "#     padded_img = ImageOps.expand(img, padding, fill='black')\n",
    "#     \n",
    "#     # Tạo đường dẫn mới\n",
    "#     \n",
    "#     new_path = after_processing_path + image_path.replace('data/', '')\n",
    "#     \n",
    "#     # Lưu ảnh đã thêm padding vào đường dẫn mới\n",
    "#     try:\n",
    "#         padded_img.save(new_path)\n",
    "#     except FileNotFoundError:\n",
    "#         os.makedirs(os.path.dirname(new_path))\n",
    "#         padded_img.save(new_path)\n",
    "#         \n",
    "#     \n",
    "#     return new_path"
   ],
   "id": "85f9e2605ff233d8",
   "outputs": [],
   "execution_count": 102
  },
  {
   "metadata": {},
   "cell_type": "code",
   "outputs": [],
   "execution_count": null,
   "source": "",
   "id": "a2f21befd7a65f98"
  },
  {
   "metadata": {
    "ExecuteTime": {
     "end_time": "2025-02-10T10:07:15.065057Z",
     "start_time": "2025-02-10T10:00:52.690573Z"
    }
   },
   "cell_type": "code",
   "source": [
    "# # for index, row in df_1.iterrows():\n",
    "# #     new_path=add_padding(row['path'])\n",
    "# #     df_1['new_path']=add_padding(new_path)\n",
    "# #     \n",
    "# df_1.head()"
   ],
   "id": "7d085b9a14d085b1",
   "outputs": [
    {
     "data": {
      "text/plain": [
       "                filename                                 path  width  height  \\\n",
       "0  00000_00000_00000.png  data/data_1/0/00000_00000_00000.png     29      30   \n",
       "1  00000_00000_00001.png  data/data_1/0/00000_00000_00001.png     30      30   \n",
       "2  00000_00000_00002.png  data/data_1/0/00000_00000_00002.png     30      30   \n",
       "3  00000_00000_00003.png  data/data_1/0/00000_00000_00003.png     31      31   \n",
       "4  00000_00000_00004.png  data/data_1/0/00000_00000_00004.png     30      32   \n",
       "\n",
       "   isSquare                                     new_path  \n",
       "0         0  after/after/data_1/25/00025_00049_00029.png  \n",
       "1         1  after/after/data_1/25/00025_00049_00029.png  \n",
       "2         1  after/after/data_1/25/00025_00049_00029.png  \n",
       "3         1  after/after/data_1/25/00025_00049_00029.png  \n",
       "4         0  after/after/data_1/25/00025_00049_00029.png  "
      ],
      "text/html": [
       "<div>\n",
       "<style scoped>\n",
       "    .dataframe tbody tr th:only-of-type {\n",
       "        vertical-align: middle;\n",
       "    }\n",
       "\n",
       "    .dataframe tbody tr th {\n",
       "        vertical-align: top;\n",
       "    }\n",
       "\n",
       "    .dataframe thead th {\n",
       "        text-align: right;\n",
       "    }\n",
       "</style>\n",
       "<table border=\"1\" class=\"dataframe\">\n",
       "  <thead>\n",
       "    <tr style=\"text-align: right;\">\n",
       "      <th></th>\n",
       "      <th>filename</th>\n",
       "      <th>path</th>\n",
       "      <th>width</th>\n",
       "      <th>height</th>\n",
       "      <th>isSquare</th>\n",
       "      <th>new_path</th>\n",
       "    </tr>\n",
       "  </thead>\n",
       "  <tbody>\n",
       "    <tr>\n",
       "      <th>0</th>\n",
       "      <td>00000_00000_00000.png</td>\n",
       "      <td>data/data_1/0/00000_00000_00000.png</td>\n",
       "      <td>29</td>\n",
       "      <td>30</td>\n",
       "      <td>0</td>\n",
       "      <td>after/after/data_1/25/00025_00049_00029.png</td>\n",
       "    </tr>\n",
       "    <tr>\n",
       "      <th>1</th>\n",
       "      <td>00000_00000_00001.png</td>\n",
       "      <td>data/data_1/0/00000_00000_00001.png</td>\n",
       "      <td>30</td>\n",
       "      <td>30</td>\n",
       "      <td>1</td>\n",
       "      <td>after/after/data_1/25/00025_00049_00029.png</td>\n",
       "    </tr>\n",
       "    <tr>\n",
       "      <th>2</th>\n",
       "      <td>00000_00000_00002.png</td>\n",
       "      <td>data/data_1/0/00000_00000_00002.png</td>\n",
       "      <td>30</td>\n",
       "      <td>30</td>\n",
       "      <td>1</td>\n",
       "      <td>after/after/data_1/25/00025_00049_00029.png</td>\n",
       "    </tr>\n",
       "    <tr>\n",
       "      <th>3</th>\n",
       "      <td>00000_00000_00003.png</td>\n",
       "      <td>data/data_1/0/00000_00000_00003.png</td>\n",
       "      <td>31</td>\n",
       "      <td>31</td>\n",
       "      <td>1</td>\n",
       "      <td>after/after/data_1/25/00025_00049_00029.png</td>\n",
       "    </tr>\n",
       "    <tr>\n",
       "      <th>4</th>\n",
       "      <td>00000_00000_00004.png</td>\n",
       "      <td>data/data_1/0/00000_00000_00004.png</td>\n",
       "      <td>30</td>\n",
       "      <td>32</td>\n",
       "      <td>0</td>\n",
       "      <td>after/after/data_1/25/00025_00049_00029.png</td>\n",
       "    </tr>\n",
       "  </tbody>\n",
       "</table>\n",
       "</div>"
      ]
     },
     "execution_count": 103,
     "metadata": {},
     "output_type": "execute_result"
    }
   ],
   "execution_count": 103
  },
  {
   "metadata": {
    "ExecuteTime": {
     "end_time": "2025-02-10T10:08:05.849753Z",
     "start_time": "2025-02-10T10:07:23.983054Z"
    }
   },
   "cell_type": "code",
   "source": [
    "# for index, row in df_2.iterrows():\n",
    "#     new_path=add_padding(row['path'])\n",
    "#     df_2['new_path']=add_padding(new_path)\n",
    "#     \n",
    "# df_2.head()"
   ],
   "id": "a54b82d9a63cd2ba",
   "outputs": [
    {
     "data": {
      "text/plain": [
       "       filename                        path  width  height  isSquare  \\\n",
       "0  002_0001.png  data/data_2/2/002_0001.png     79      82         0   \n",
       "1  002_0002.png  data/data_2/2/002_0002.png     86      83         0   \n",
       "2  002_0003.png  data/data_2/2/002_0003.png    182     165         0   \n",
       "3  002_0004.png  data/data_2/2/002_0004.png    255     210         0   \n",
       "4  002_0005.png  data/data_2/2/002_0005.png    170     161         0   \n",
       "\n",
       "                               new_path  \n",
       "0  after/after/data_2/55/055_1_0080.png  \n",
       "1  after/after/data_2/55/055_1_0080.png  \n",
       "2  after/after/data_2/55/055_1_0080.png  \n",
       "3  after/after/data_2/55/055_1_0080.png  \n",
       "4  after/after/data_2/55/055_1_0080.png  "
      ],
      "text/html": [
       "<div>\n",
       "<style scoped>\n",
       "    .dataframe tbody tr th:only-of-type {\n",
       "        vertical-align: middle;\n",
       "    }\n",
       "\n",
       "    .dataframe tbody tr th {\n",
       "        vertical-align: top;\n",
       "    }\n",
       "\n",
       "    .dataframe thead th {\n",
       "        text-align: right;\n",
       "    }\n",
       "</style>\n",
       "<table border=\"1\" class=\"dataframe\">\n",
       "  <thead>\n",
       "    <tr style=\"text-align: right;\">\n",
       "      <th></th>\n",
       "      <th>filename</th>\n",
       "      <th>path</th>\n",
       "      <th>width</th>\n",
       "      <th>height</th>\n",
       "      <th>isSquare</th>\n",
       "      <th>new_path</th>\n",
       "    </tr>\n",
       "  </thead>\n",
       "  <tbody>\n",
       "    <tr>\n",
       "      <th>0</th>\n",
       "      <td>002_0001.png</td>\n",
       "      <td>data/data_2/2/002_0001.png</td>\n",
       "      <td>79</td>\n",
       "      <td>82</td>\n",
       "      <td>0</td>\n",
       "      <td>after/after/data_2/55/055_1_0080.png</td>\n",
       "    </tr>\n",
       "    <tr>\n",
       "      <th>1</th>\n",
       "      <td>002_0002.png</td>\n",
       "      <td>data/data_2/2/002_0002.png</td>\n",
       "      <td>86</td>\n",
       "      <td>83</td>\n",
       "      <td>0</td>\n",
       "      <td>after/after/data_2/55/055_1_0080.png</td>\n",
       "    </tr>\n",
       "    <tr>\n",
       "      <th>2</th>\n",
       "      <td>002_0003.png</td>\n",
       "      <td>data/data_2/2/002_0003.png</td>\n",
       "      <td>182</td>\n",
       "      <td>165</td>\n",
       "      <td>0</td>\n",
       "      <td>after/after/data_2/55/055_1_0080.png</td>\n",
       "    </tr>\n",
       "    <tr>\n",
       "      <th>3</th>\n",
       "      <td>002_0004.png</td>\n",
       "      <td>data/data_2/2/002_0004.png</td>\n",
       "      <td>255</td>\n",
       "      <td>210</td>\n",
       "      <td>0</td>\n",
       "      <td>after/after/data_2/55/055_1_0080.png</td>\n",
       "    </tr>\n",
       "    <tr>\n",
       "      <th>4</th>\n",
       "      <td>002_0005.png</td>\n",
       "      <td>data/data_2/2/002_0005.png</td>\n",
       "      <td>170</td>\n",
       "      <td>161</td>\n",
       "      <td>0</td>\n",
       "      <td>after/after/data_2/55/055_1_0080.png</td>\n",
       "    </tr>\n",
       "  </tbody>\n",
       "</table>\n",
       "</div>"
      ]
     },
     "execution_count": 104,
     "metadata": {},
     "output_type": "execute_result"
    }
   ],
   "execution_count": 104
  }
 ],
 "metadata": {
  "kernelspec": {
   "display_name": "Python 3",
   "language": "python",
   "name": "python3"
  },
  "language_info": {
   "codemirror_mode": {
    "name": "ipython",
    "version": 2
   },
   "file_extension": ".py",
   "mimetype": "text/x-python",
   "name": "python",
   "nbconvert_exporter": "python",
   "pygments_lexer": "ipython2",
   "version": "2.7.6"
  }
 },
 "nbformat": 4,
 "nbformat_minor": 5
}
