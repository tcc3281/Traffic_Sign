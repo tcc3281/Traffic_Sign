{
 "cells": [
  {
   "cell_type": "code",
   "id": "initial_id",
   "metadata": {
    "collapsed": true,
    "ExecuteTime": {
     "end_time": "2025-02-13T16:59:07.297707Z",
     "start_time": "2025-02-13T16:59:07.204257Z"
    }
   },
   "source": [
    "import pandas as pd\n",
    "import matplotlib.pyplot as plt\n",
    "import module.process_signs as ps\n",
    "import cv2\n",
    "import os\n",
    "import numpy as np"
   ],
   "outputs": [],
   "execution_count": 1
  },
  {
   "metadata": {},
   "cell_type": "markdown",
   "source": "### Data 1",
   "id": "4bc573078c6f4fac"
  },
  {
   "metadata": {
    "ExecuteTime": {
     "end_time": "2025-02-13T16:59:07.759871Z",
     "start_time": "2025-02-13T16:59:07.321748Z"
    }
   },
   "cell_type": "code",
   "source": [
    "path= '../dataset/noise/'\n",
    "df = pd.DataFrame()\n",
    "\n",
    "for i in range(15):\n",
    "    temp_df=ps.load_data(path+str(i))\n",
    "    temp_df['label']=i\n",
    "    df=pd.concat([df,temp_df],ignore_index=True)\n",
    "\n",
    "df"
   ],
   "id": "d285070180804e52",
   "outputs": [
    {
     "data": {
      "text/plain": [
       "                   filename                                       path  width  \\\n",
       "0     00000_00000_00000.png   ../dataset/noise/0/00000_00000_00000.png  224.0   \n",
       "1     00000_00000_00001.png   ../dataset/noise/0/00000_00000_00001.png  224.0   \n",
       "2     00000_00000_00002.png   ../dataset/noise/0/00000_00000_00002.png  224.0   \n",
       "3     00000_00000_00003.png   ../dataset/noise/0/00000_00000_00003.png  224.0   \n",
       "4     00000_00000_00004.png   ../dataset/noise/0/00000_00000_00004.png  224.0   \n",
       "...                     ...                                        ...    ...   \n",
       "1805  00010_00065_00002.png  ../dataset/noise/10/00010_00065_00002.png  224.0   \n",
       "1806  00010_00065_00003.png  ../dataset/noise/10/00010_00065_00003.png  224.0   \n",
       "1807  00010_00065_00004.png  ../dataset/noise/10/00010_00065_00004.png  224.0   \n",
       "1808  00010_00065_00005.png  ../dataset/noise/10/00010_00065_00005.png  224.0   \n",
       "1809  00010_00065_00006.png  ../dataset/noise/10/00010_00065_00006.png  224.0   \n",
       "\n",
       "      height  label  \n",
       "0      224.0      0  \n",
       "1      224.0      0  \n",
       "2      224.0      0  \n",
       "3      224.0      0  \n",
       "4      224.0      0  \n",
       "...      ...    ...  \n",
       "1805   224.0     10  \n",
       "1806   224.0     10  \n",
       "1807   224.0     10  \n",
       "1808   224.0     10  \n",
       "1809   224.0     10  \n",
       "\n",
       "[1810 rows x 5 columns]"
      ],
      "text/html": [
       "<div>\n",
       "<style scoped>\n",
       "    .dataframe tbody tr th:only-of-type {\n",
       "        vertical-align: middle;\n",
       "    }\n",
       "\n",
       "    .dataframe tbody tr th {\n",
       "        vertical-align: top;\n",
       "    }\n",
       "\n",
       "    .dataframe thead th {\n",
       "        text-align: right;\n",
       "    }\n",
       "</style>\n",
       "<table border=\"1\" class=\"dataframe\">\n",
       "  <thead>\n",
       "    <tr style=\"text-align: right;\">\n",
       "      <th></th>\n",
       "      <th>filename</th>\n",
       "      <th>path</th>\n",
       "      <th>width</th>\n",
       "      <th>height</th>\n",
       "      <th>label</th>\n",
       "    </tr>\n",
       "  </thead>\n",
       "  <tbody>\n",
       "    <tr>\n",
       "      <th>0</th>\n",
       "      <td>00000_00000_00000.png</td>\n",
       "      <td>../dataset/noise/0/00000_00000_00000.png</td>\n",
       "      <td>224.0</td>\n",
       "      <td>224.0</td>\n",
       "      <td>0</td>\n",
       "    </tr>\n",
       "    <tr>\n",
       "      <th>1</th>\n",
       "      <td>00000_00000_00001.png</td>\n",
       "      <td>../dataset/noise/0/00000_00000_00001.png</td>\n",
       "      <td>224.0</td>\n",
       "      <td>224.0</td>\n",
       "      <td>0</td>\n",
       "    </tr>\n",
       "    <tr>\n",
       "      <th>2</th>\n",
       "      <td>00000_00000_00002.png</td>\n",
       "      <td>../dataset/noise/0/00000_00000_00002.png</td>\n",
       "      <td>224.0</td>\n",
       "      <td>224.0</td>\n",
       "      <td>0</td>\n",
       "    </tr>\n",
       "    <tr>\n",
       "      <th>3</th>\n",
       "      <td>00000_00000_00003.png</td>\n",
       "      <td>../dataset/noise/0/00000_00000_00003.png</td>\n",
       "      <td>224.0</td>\n",
       "      <td>224.0</td>\n",
       "      <td>0</td>\n",
       "    </tr>\n",
       "    <tr>\n",
       "      <th>4</th>\n",
       "      <td>00000_00000_00004.png</td>\n",
       "      <td>../dataset/noise/0/00000_00000_00004.png</td>\n",
       "      <td>224.0</td>\n",
       "      <td>224.0</td>\n",
       "      <td>0</td>\n",
       "    </tr>\n",
       "    <tr>\n",
       "      <th>...</th>\n",
       "      <td>...</td>\n",
       "      <td>...</td>\n",
       "      <td>...</td>\n",
       "      <td>...</td>\n",
       "      <td>...</td>\n",
       "    </tr>\n",
       "    <tr>\n",
       "      <th>1805</th>\n",
       "      <td>00010_00065_00002.png</td>\n",
       "      <td>../dataset/noise/10/00010_00065_00002.png</td>\n",
       "      <td>224.0</td>\n",
       "      <td>224.0</td>\n",
       "      <td>10</td>\n",
       "    </tr>\n",
       "    <tr>\n",
       "      <th>1806</th>\n",
       "      <td>00010_00065_00003.png</td>\n",
       "      <td>../dataset/noise/10/00010_00065_00003.png</td>\n",
       "      <td>224.0</td>\n",
       "      <td>224.0</td>\n",
       "      <td>10</td>\n",
       "    </tr>\n",
       "    <tr>\n",
       "      <th>1807</th>\n",
       "      <td>00010_00065_00004.png</td>\n",
       "      <td>../dataset/noise/10/00010_00065_00004.png</td>\n",
       "      <td>224.0</td>\n",
       "      <td>224.0</td>\n",
       "      <td>10</td>\n",
       "    </tr>\n",
       "    <tr>\n",
       "      <th>1808</th>\n",
       "      <td>00010_00065_00005.png</td>\n",
       "      <td>../dataset/noise/10/00010_00065_00005.png</td>\n",
       "      <td>224.0</td>\n",
       "      <td>224.0</td>\n",
       "      <td>10</td>\n",
       "    </tr>\n",
       "    <tr>\n",
       "      <th>1809</th>\n",
       "      <td>00010_00065_00006.png</td>\n",
       "      <td>../dataset/noise/10/00010_00065_00006.png</td>\n",
       "      <td>224.0</td>\n",
       "      <td>224.0</td>\n",
       "      <td>10</td>\n",
       "    </tr>\n",
       "  </tbody>\n",
       "</table>\n",
       "<p>1810 rows × 5 columns</p>\n",
       "</div>"
      ]
     },
     "execution_count": 2,
     "metadata": {},
     "output_type": "execute_result"
    }
   ],
   "execution_count": 2
  },
  {
   "metadata": {
    "ExecuteTime": {
     "end_time": "2025-02-13T16:59:08.156152Z",
     "start_time": "2025-02-13T16:59:08.142579Z"
    }
   },
   "cell_type": "code",
   "source": "df.shape",
   "id": "92b60e6d2eb01a8f",
   "outputs": [
    {
     "data": {
      "text/plain": [
       "(1810, 5)"
      ]
     },
     "execution_count": 3,
     "metadata": {},
     "output_type": "execute_result"
    }
   ],
   "execution_count": 3
  },
  {
   "metadata": {},
   "cell_type": "markdown",
   "source": "## Statistics",
   "id": "71fc67d0b29152a2"
  },
  {
   "metadata": {
    "ExecuteTime": {
     "end_time": "2025-02-13T16:59:08.219622Z",
     "start_time": "2025-02-13T16:59:08.206357Z"
    }
   },
   "cell_type": "code",
   "source": "df['label'].value_counts()",
   "id": "7bfde2b499b21489",
   "outputs": [
    {
     "data": {
      "text/plain": [
       "label\n",
       "2     467\n",
       "1     241\n",
       "10    228\n",
       "8     203\n",
       "7     193\n",
       "4     169\n",
       "9     132\n",
       "5      99\n",
       "0      67\n",
       "3      11\n",
       "Name: count, dtype: int64"
      ]
     },
     "execution_count": 4,
     "metadata": {},
     "output_type": "execute_result"
    }
   ],
   "execution_count": 4
  },
  {
   "metadata": {
    "ExecuteTime": {
     "end_time": "2025-02-13T16:59:08.578790Z",
     "start_time": "2025-02-13T16:59:08.300320Z"
    }
   },
   "cell_type": "code",
   "source": [
    "# plot the number of each class\n",
    "df['label'].value_counts().plot(kind='bar')"
   ],
   "id": "41b700323d73f327",
   "outputs": [
    {
     "data": {
      "text/plain": [
       "<Axes: xlabel='label'>"
      ]
     },
     "execution_count": 5,
     "metadata": {},
     "output_type": "execute_result"
    },
    {
     "data": {
      "text/plain": [
       "<Figure size 640x480 with 1 Axes>"
      ],
      "image/png": "[encoded data removed]"
     },
     "metadata": {},
     "output_type": "display_data"
    }
   ],
   "execution_count": 5
  },
  {
   "metadata": {
    "ExecuteTime": {
     "end_time": "2025-02-13T16:59:08.674044Z",
     "start_time": "2025-02-13T16:59:08.660443Z"
    }
   },
   "cell_type": "code",
   "source": "",
   "id": "e7f3476910a7996f",
   "outputs": [],
   "execution_count": null
  }
 ],
 "metadata": {
  "kernelspec": {
   "display_name": "Python 3",
   "language": "python",
   "name": "python3"
  },
  "language_info": {
   "codemirror_mode": {
    "name": "ipython",
    "version": 2
   },
   "file_extension": ".py",
   "mimetype": "text/x-python",
   "name": "python",
   "nbconvert_exporter": "python",
   "pygments_lexer": "ipython2",
   "version": "2.7.6"
  }
 },
 "nbformat": 4,
 "nbformat_minor": 5
}
