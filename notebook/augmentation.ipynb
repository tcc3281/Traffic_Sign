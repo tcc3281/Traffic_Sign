{
 "cells": [
  {
   "cell_type": "code",
   "id": "initial_id",
   "metadata": {
    "collapsed": true,
    "ExecuteTime": {
     "end_time": "2025-02-13T17:01:02.002175Z",
     "start_time": "2025-02-13T17:01:01.773465Z"
    }
   },
   "source": [
    "import pandas as pd\n",
    "import matplotlib.pyplot as plt\n",
    "import module.process_signs as ps\n",
    "import module.augmentation as aug\n",
    "import cv2\n",
    "import os\n",
    "import numpy as np"
   ],
   "outputs": [],
   "execution_count": 2
  },
  {
   "metadata": {},
   "cell_type": "markdown",
   "source": "### Data 1",
   "id": "4bc573078c6f4fac"
  },
  {
   "metadata": {},
   "cell_type": "code",
   "source": [
    "path= 'after_filter/data_1/'\n",
    "df = pd.DataFrame()\n",
    "\n",
    "for i in range(14,15):\n",
    "    temp_df=ps.load_data(path+str(i))\n",
    "    temp_df['label']=i\n",
    "    df=pd.concat([df,temp_df],ignore_index=True)\n",
    "\n",
    "df"
   ],
   "id": "d285070180804e52",
   "outputs": [],
   "execution_count": null
  },
  {
   "metadata": {},
   "cell_type": "code",
   "source": "df.shape",
   "id": "f11662c19c595d02",
   "outputs": [],
   "execution_count": null
  },
  {
   "metadata": {},
   "cell_type": "markdown",
   "source": "## Augmentation",
   "id": "71fc67d0b29152a2"
  },
  {
   "metadata": {
    "ExecuteTime": {
     "end_time": "2025-02-13T17:03:04.488321Z",
     "start_time": "2025-02-13T17:02:56.631745Z"
    }
   },
   "cell_type": "code",
   "source": [
    "for i in range(7,11):\n",
    "    aug.augment_image_augmentor(f'../dataset/noise/{i}', f'label/noi/{i}', 500)\n"
   ],
   "id": "e7f3476910a7996f",
   "outputs": [
    {
     "name": "stdout",
     "output_type": "stream",
     "text": [
      "Initialised with 193 image(s) found.\n",
      "Output directory set to ../dataset/noise/7\\output.Output directory set to: label/noi/7\n"
     ]
    },
    {
     "name": "stderr",
     "output_type": "stream",
     "text": [
      "Processing <PIL.Image.Image image mode=RGB size=224x224 at 0x20B72AB2E90>: 100%|██████████| 500/500 [00:01<00:00, 257.01 Samples/s]                \n"
     ]
    },
    {
     "name": "stdout",
     "output_type": "stream",
     "text": [
      "Initialised with 203 image(s) found.\n",
      "Output directory set to ../dataset/noise/8\\output.Output directory set to: label/noi/8\n"
     ]
    },
    {
     "name": "stderr",
     "output_type": "stream",
     "text": [
      "Processing <PIL.Image.Image image mode=RGB size=224x224 at 0x20B72AA6080>: 100%|██████████| 500/500 [00:01<00:00, 264.64 Samples/s]                \n"
     ]
    },
    {
     "name": "stdout",
     "output_type": "stream",
     "text": [
      "Initialised with 132 image(s) found.\n",
      "Output directory set to ../dataset/noise/9\\output.Output directory set to: label/noi/9\n"
     ]
    },
    {
     "name": "stderr",
     "output_type": "stream",
     "text": [
      "Processing <PIL.Image.Image image mode=RGB size=224x224 at 0x20B72A43DC0>: 100%|██████████| 500/500 [00:01<00:00, 275.04 Samples/s]                \n"
     ]
    },
    {
     "name": "stdout",
     "output_type": "stream",
     "text": [
      "Initialised with 228 image(s) found.\n",
      "Output directory set to ../dataset/noise/10\\output.Output directory set to: label/noi/10\n"
     ]
    },
    {
     "name": "stderr",
     "output_type": "stream",
     "text": [
      "Processing <PIL.Image.Image image mode=RGB size=224x224 at 0x20B72ADCF10>: 100%|██████████| 500/500 [00:01<00:00, 264.38 Samples/s]                \n"
     ]
    }
   ],
   "execution_count": 5
  },
  {
   "metadata": {},
   "cell_type": "markdown",
   "source": "## Split data",
   "id": "708e1f1e904f5325"
  },
  {
   "metadata": {
    "ExecuteTime": {
     "end_time": "2025-02-13T17:01:18.209446Z",
     "start_time": "2025-02-13T17:01:16.317913Z"
    }
   },
   "cell_type": "code",
   "source": [
    "input_dir='../dataset/noise/'\n",
    "output_dir='dataset/noi'\n",
    "ps.split_data(image_dir=input_dir, output_dir=output_dir)"
   ],
   "id": "984c937e4f6bf982",
   "outputs": [
    {
     "name": "stdout",
     "output_type": "stream",
     "text": [
      "Đã chia ảnh thành các tập train, val, và test cho tất cả các lớp.\n"
     ]
    }
   ],
   "execution_count": 3
  }
 ],
 "metadata": {
  "kernelspec": {
   "display_name": "Python 3",
   "language": "python",
   "name": "python3"
  },
  "language_info": {
   "codemirror_mode": {
    "name": "ipython",
    "version": 2
   },
   "file_extension": ".py",
   "mimetype": "text/x-python",
   "name": "python",
   "nbconvert_exporter": "python",
   "pygments_lexer": "ipython2",
   "version": "2.7.6"
  }
 },
 "nbformat": 4,
 "nbformat_minor": 5
}
