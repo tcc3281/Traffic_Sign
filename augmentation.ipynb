{
 "cells": [
  {
   "cell_type": "code",
   "id": "initial_id",
   "metadata": {
    "collapsed": true,
    "ExecuteTime": {
     "end_time": "2025-02-12T08:41:49.056332Z",
     "start_time": "2025-02-12T08:41:43.480510Z"
    }
   },
   "source": [
    "import pandas as pd\n",
    "import matplotlib.pyplot as plt\n",
    "import module.process_signs as ps\n",
    "import module.augmentation as aug\n",
    "import cv2\n",
    "import os\n",
    "import numpy as np"
   ],
   "outputs": [],
   "execution_count": 1
  },
  {
   "metadata": {},
   "cell_type": "markdown",
   "source": "### Data 1",
   "id": "4bc573078c6f4fac"
  },
  {
   "metadata": {},
   "cell_type": "code",
   "source": [
    "path= 'after_filter/data_1/'\n",
    "df = pd.DataFrame()\n",
    "\n",
    "for i in range(14,15):\n",
    "    temp_df=ps.load_data(path+str(i))\n",
    "    temp_df['label']=i\n",
    "    df=pd.concat([df,temp_df],ignore_index=True)\n",
    "\n",
    "df"
   ],
   "id": "d285070180804e52",
   "outputs": [],
   "execution_count": null
  },
  {
   "metadata": {},
   "cell_type": "code",
   "source": "df.shape",
   "id": "f11662c19c595d02",
   "outputs": [],
   "execution_count": null
  },
  {
   "metadata": {},
   "cell_type": "markdown",
   "source": "## Augmentation",
   "id": "71fc67d0b29152a2"
  },
  {
   "metadata": {},
   "cell_type": "code",
   "source": [
    "for i in range(15):\n",
    "    aug.augment_image_augmentor(f'after_filter/data_1/{i}', f'label/data_1/{i}', 5000)\n"
   ],
   "id": "e7f3476910a7996f",
   "outputs": [],
   "execution_count": null
  },
  {
   "metadata": {
    "ExecuteTime": {
     "end_time": "2025-02-12T09:11:53.380546300Z",
     "start_time": "2025-02-12T08:41:51.374194Z"
    }
   },
   "cell_type": "code",
   "source": [
    "input_dir='dataset/total/'\n",
    "output_dir='dataset/'\n",
    "ps.split_data(image_dir=input_dir, output_dir=output_dir)"
   ],
   "id": "984c937e4f6bf982",
   "outputs": [],
   "execution_count": null
  }
 ],
 "metadata": {
  "kernelspec": {
   "display_name": "Python 3",
   "language": "python",
   "name": "python3"
  },
  "language_info": {
   "codemirror_mode": {
    "name": "ipython",
    "version": 2
   },
   "file_extension": ".py",
   "mimetype": "text/x-python",
   "name": "python",
   "nbconvert_exporter": "python",
   "pygments_lexer": "ipython2",
   "version": "2.7.6"
  }
 },
 "nbformat": 4,
 "nbformat_minor": 5
}
