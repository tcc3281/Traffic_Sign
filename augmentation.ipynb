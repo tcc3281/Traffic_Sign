{
 "cells": [
  {
   "cell_type": "code",
   "id": "initial_id",
   "metadata": {
    "collapsed": true,
    "ExecuteTime": {
     "end_time": "2025-02-11T10:57:51.544740Z",
     "start_time": "2025-02-11T10:57:51.538578Z"
    }
   },
   "source": [
    "import pandas as pd\n",
    "import matplotlib.pyplot as plt\n",
    "import module.process_signs as ps\n",
    "import module.augmentation as aug\n",
    "import cv2\n",
    "import os\n",
    "import numpy as np"
   ],
   "outputs": [],
   "execution_count": 8
  },
  {
   "metadata": {},
   "cell_type": "markdown",
   "source": "### Data 1",
   "id": "4bc573078c6f4fac"
  },
  {
   "metadata": {
    "ExecuteTime": {
     "end_time": "2025-02-11T10:57:51.624140Z",
     "start_time": "2025-02-11T10:57:51.567304Z"
    }
   },
   "cell_type": "code",
   "source": [
    "path= 'after_filter/data_1/'\n",
    "df = pd.DataFrame()\n",
    "\n",
    "for i in range(14,15):\n",
    "    temp_df=ps.load_data(path+str(i))\n",
    "    temp_df['label']=i\n",
    "    df=pd.concat([df,temp_df],ignore_index=True)\n",
    "\n",
    "df"
   ],
   "id": "d285070180804e52",
   "outputs": [
    {
     "data": {
      "text/plain": [
       "           filename                                    path  width  height  \\\n",
       "0      016_0001.png    after_fillter/data_1/14/016_0001.png    224     224   \n",
       "1      016_0002.png    after_fillter/data_1/14/016_0002.png    224     224   \n",
       "2      016_0003.png    after_fillter/data_1/14/016_0003.png    224     224   \n",
       "3      016_0004.png    after_fillter/data_1/14/016_0004.png    224     224   \n",
       "4      016_0005.png    after_fillter/data_1/14/016_0005.png    224     224   \n",
       "..              ...                                     ...    ...     ...   \n",
       "137  016_1_0066.png  after_fillter/data_1/14/016_1_0066.png    224     224   \n",
       "138  016_1_0067.png  after_fillter/data_1/14/016_1_0067.png    224     224   \n",
       "139  016_1_0068.png  after_fillter/data_1/14/016_1_0068.png    224     224   \n",
       "140  016_1_0069.png  after_fillter/data_1/14/016_1_0069.png    224     224   \n",
       "141  016_1_0070.png  after_fillter/data_1/14/016_1_0070.png    224     224   \n",
       "\n",
       "     label  \n",
       "0       14  \n",
       "1       14  \n",
       "2       14  \n",
       "3       14  \n",
       "4       14  \n",
       "..     ...  \n",
       "137     14  \n",
       "138     14  \n",
       "139     14  \n",
       "140     14  \n",
       "141     14  \n",
       "\n",
       "[142 rows x 5 columns]"
      ],
      "text/html": [
       "<div>\n",
       "<style scoped>\n",
       "    .dataframe tbody tr th:only-of-type {\n",
       "        vertical-align: middle;\n",
       "    }\n",
       "\n",
       "    .dataframe tbody tr th {\n",
       "        vertical-align: top;\n",
       "    }\n",
       "\n",
       "    .dataframe thead th {\n",
       "        text-align: right;\n",
       "    }\n",
       "</style>\n",
       "<table border=\"1\" class=\"dataframe\">\n",
       "  <thead>\n",
       "    <tr style=\"text-align: right;\">\n",
       "      <th></th>\n",
       "      <th>filename</th>\n",
       "      <th>path</th>\n",
       "      <th>width</th>\n",
       "      <th>height</th>\n",
       "      <th>label</th>\n",
       "    </tr>\n",
       "  </thead>\n",
       "  <tbody>\n",
       "    <tr>\n",
       "      <th>0</th>\n",
       "      <td>016_0001.png</td>\n",
       "      <td>after_fillter/data_1/14/016_0001.png</td>\n",
       "      <td>224</td>\n",
       "      <td>224</td>\n",
       "      <td>14</td>\n",
       "    </tr>\n",
       "    <tr>\n",
       "      <th>1</th>\n",
       "      <td>016_0002.png</td>\n",
       "      <td>after_fillter/data_1/14/016_0002.png</td>\n",
       "      <td>224</td>\n",
       "      <td>224</td>\n",
       "      <td>14</td>\n",
       "    </tr>\n",
       "    <tr>\n",
       "      <th>2</th>\n",
       "      <td>016_0003.png</td>\n",
       "      <td>after_fillter/data_1/14/016_0003.png</td>\n",
       "      <td>224</td>\n",
       "      <td>224</td>\n",
       "      <td>14</td>\n",
       "    </tr>\n",
       "    <tr>\n",
       "      <th>3</th>\n",
       "      <td>016_0004.png</td>\n",
       "      <td>after_fillter/data_1/14/016_0004.png</td>\n",
       "      <td>224</td>\n",
       "      <td>224</td>\n",
       "      <td>14</td>\n",
       "    </tr>\n",
       "    <tr>\n",
       "      <th>4</th>\n",
       "      <td>016_0005.png</td>\n",
       "      <td>after_fillter/data_1/14/016_0005.png</td>\n",
       "      <td>224</td>\n",
       "      <td>224</td>\n",
       "      <td>14</td>\n",
       "    </tr>\n",
       "    <tr>\n",
       "      <th>...</th>\n",
       "      <td>...</td>\n",
       "      <td>...</td>\n",
       "      <td>...</td>\n",
       "      <td>...</td>\n",
       "      <td>...</td>\n",
       "    </tr>\n",
       "    <tr>\n",
       "      <th>137</th>\n",
       "      <td>016_1_0066.png</td>\n",
       "      <td>after_fillter/data_1/14/016_1_0066.png</td>\n",
       "      <td>224</td>\n",
       "      <td>224</td>\n",
       "      <td>14</td>\n",
       "    </tr>\n",
       "    <tr>\n",
       "      <th>138</th>\n",
       "      <td>016_1_0067.png</td>\n",
       "      <td>after_fillter/data_1/14/016_1_0067.png</td>\n",
       "      <td>224</td>\n",
       "      <td>224</td>\n",
       "      <td>14</td>\n",
       "    </tr>\n",
       "    <tr>\n",
       "      <th>139</th>\n",
       "      <td>016_1_0068.png</td>\n",
       "      <td>after_fillter/data_1/14/016_1_0068.png</td>\n",
       "      <td>224</td>\n",
       "      <td>224</td>\n",
       "      <td>14</td>\n",
       "    </tr>\n",
       "    <tr>\n",
       "      <th>140</th>\n",
       "      <td>016_1_0069.png</td>\n",
       "      <td>after_fillter/data_1/14/016_1_0069.png</td>\n",
       "      <td>224</td>\n",
       "      <td>224</td>\n",
       "      <td>14</td>\n",
       "    </tr>\n",
       "    <tr>\n",
       "      <th>141</th>\n",
       "      <td>016_1_0070.png</td>\n",
       "      <td>after_fillter/data_1/14/016_1_0070.png</td>\n",
       "      <td>224</td>\n",
       "      <td>224</td>\n",
       "      <td>14</td>\n",
       "    </tr>\n",
       "  </tbody>\n",
       "</table>\n",
       "<p>142 rows × 5 columns</p>\n",
       "</div>"
      ]
     },
     "execution_count": 9,
     "metadata": {},
     "output_type": "execute_result"
    }
   ],
   "execution_count": 9
  },
  {
   "metadata": {
    "ExecuteTime": {
     "end_time": "2025-02-11T10:57:51.722501Z",
     "start_time": "2025-02-11T10:57:51.709638Z"
    }
   },
   "cell_type": "code",
   "source": "df.shape",
   "id": "f11662c19c595d02",
   "outputs": [
    {
     "data": {
      "text/plain": [
       "(142, 5)"
      ]
     },
     "execution_count": 10,
     "metadata": {},
     "output_type": "execute_result"
    }
   ],
   "execution_count": 10
  },
  {
   "metadata": {},
   "cell_type": "markdown",
   "source": "## Augmentation",
   "id": "71fc67d0b29152a2"
  },
  {
   "metadata": {
    "ExecuteTime": {
     "end_time": "2025-02-11T14:57:16.908210Z",
     "start_time": "2025-02-11T14:47:56.157597Z"
    }
   },
   "cell_type": "code",
   "source": [
    "for i in range(15):\n",
    "    aug.augment_image_augmentor(f'after_filter/data_1/{i}', f'label/data_1/{i}', 5000)\n"
   ],
   "id": "e7f3476910a7996f",
   "outputs": [
    {
     "name": "stdout",
     "output_type": "stream",
     "text": [
      "Initialised with 143 image(s) found.\n",
      "Output directory set to after_filter/data_1/0\\output.Output directory set to: label/data_1/0\n"
     ]
    },
    {
     "name": "stderr",
     "output_type": "stream",
     "text": [
      "Processing <PIL.Image.Image image mode=RGB size=224x224 at 0x16CAEA95060>: 100%|██████████| 5000/5000 [00:23<00:00, 215.00 Samples/s]                 \n"
     ]
    },
    {
     "name": "stdout",
     "output_type": "stream",
     "text": [
      "Initialised with 1827 image(s) found.\n",
      "Output directory set to after_filter/data_1/1\\output.Output directory set to: label/data_1/1\n"
     ]
    },
    {
     "name": "stderr",
     "output_type": "stream",
     "text": [
      "Processing <PIL.Image.Image image mode=RGB size=224x224 at 0x16CAEAA4220>:  89%|████████▉ | 4460/5000 [00:20<00:00, 986.13 Samples/s]                 IOPub message rate exceeded.\n",
      "The Jupyter server will temporarily stop sending output\n",
      "to the client in order to avoid crashing it.\n",
      "To change this limit, set the config variable\n",
      "`--ServerApp.iopub_msg_rate_limit`.\n",
      "\n",
      "Current values:\n",
      "ServerApp.iopub_msg_rate_limit=1000.0 (msgs/sec)\n",
      "ServerApp.rate_limit_window=3.0 (secs)\n",
      "\n",
      "\n"
     ]
    },
    {
     "name": "stdout",
     "output_type": "stream",
     "text": [
      "Initialised with 1857 image(s) found.\n",
      "Output directory set to after_filter/data_1/2\\output.Output directory set to: label/data_1/2\n"
     ]
    },
    {
     "name": "stderr",
     "output_type": "stream",
     "text": [
      "Processing <PIL.Image.Image image mode=RGB size=224x224 at 0x16CAE7976A0>:  85%|████████▌ | 4268/5000 [00:19<00:00, 1035.47 Samples/s]                IOPub message rate exceeded.\n",
      "The Jupyter server will temporarily stop sending output\n",
      "to the client in order to avoid crashing it.\n",
      "To change this limit, set the config variable\n",
      "`--ServerApp.iopub_msg_rate_limit`.\n",
      "\n",
      "Current values:\n",
      "ServerApp.iopub_msg_rate_limit=1000.0 (msgs/sec)\n",
      "ServerApp.rate_limit_window=3.0 (secs)\n",
      "\n",
      "Processing <PIL.Image.Image image mode=RGB size=224x224 at 0x16CFDDF4D00>: 100%|██████████| 5000/5000 [00:20<00:00, 248.61 Samples/s]                 \n"
     ]
    },
    {
     "name": "stdout",
     "output_type": "stream",
     "text": [
      "Initialised with 1593 image(s) found.\n",
      "Output directory set to after_filter/data_1/3\\output.Output directory set to: label/data_1/3\n"
     ]
    },
    {
     "name": "stderr",
     "output_type": "stream",
     "text": [
      "Processing <PIL.Image.Image image mode=RGB size=224x224 at 0x16CAE774A00>:  85%|████████▌ | 4271/5000 [00:19<00:00, 951.78 Samples/s]                 IOPub message rate exceeded.\n",
      "The Jupyter server will temporarily stop sending output\n",
      "to the client in order to avoid crashing it.\n",
      "To change this limit, set the config variable\n",
      "`--ServerApp.iopub_msg_rate_limit`.\n",
      "\n",
      "Current values:\n",
      "ServerApp.iopub_msg_rate_limit=1000.0 (msgs/sec)\n",
      "ServerApp.rate_limit_window=3.0 (secs)\n",
      "\n",
      "Processing <PIL.Image.Image image mode=RGB size=224x224 at 0x16CAFB54640>: 100%|██████████| 5000/5000 [00:20<00:00, 249.28 Samples/s] \n"
     ]
    },
    {
     "name": "stdout",
     "output_type": "stream",
     "text": [
      "Initialised with 1889 image(s) found.\n",
      "Output directory set to after_filter/data_1/4\\output.Output directory set to: label/data_1/4\n"
     ]
    },
    {
     "name": "stderr",
     "output_type": "stream",
     "text": [
      "Processing <PIL.Image.Image image mode=RGB size=224x224 at 0x16CFFF31BA0>: 100%|██████████| 5000/5000 [00:20<00:00, 247.66 Samples/s]                 \n"
     ]
    },
    {
     "name": "stdout",
     "output_type": "stream",
     "text": [
      "Initialised with 1913 image(s) found.\n",
      "Output directory set to after_filter/data_1/5\\output.Output directory set to: label/data_1/5\n"
     ]
    },
    {
     "name": "stderr",
     "output_type": "stream",
     "text": [
      "Processing <PIL.Image.Image image mode=RGB size=224x224 at 0x16CAE94E530>: 100%|██████████| 5000/5000 [00:26<00:00, 187.89 Samples/s]                \n"
     ]
    },
    {
     "name": "stdout",
     "output_type": "stream",
     "text": [
      "Initialised with 630 image(s) found.\n",
      "Output directory set to after_filter/data_1/6\\output.Output directory set to: label/data_1/6\n"
     ]
    },
    {
     "name": "stderr",
     "output_type": "stream",
     "text": [
      "Processing <PIL.Image.Image image mode=RGB size=224x224 at 0x16CFCA0A8F0>: 100%|██████████| 5000/5000 [00:23<00:00, 215.61 Samples/s]                 \n"
     ]
    },
    {
     "name": "stdout",
     "output_type": "stream",
     "text": [
      "Initialised with 1247 image(s) found.\n",
      "Output directory set to after_filter/data_1/7\\output.Output directory set to: label/data_1/7\n"
     ]
    },
    {
     "name": "stderr",
     "output_type": "stream",
     "text": [
      "Processing <PIL.Image.Image image mode=RGB size=224x224 at 0x16CAFB09270>: 100%|██████████| 5000/5000 [00:21<00:00, 235.62 Samples/s]                \n"
     ]
    },
    {
     "name": "stdout",
     "output_type": "stream",
     "text": [
      "Initialised with 1207 image(s) found.\n",
      "Output directory set to after_filter/data_1/8\\output.Output directory set to: label/data_1/8\n"
     ]
    },
    {
     "name": "stderr",
     "output_type": "stream",
     "text": [
      "Processing <PIL.Image.Image image mode=RGB size=224x224 at 0x16CFFEA5F30>: 100%|██████████| 5000/5000 [00:27<00:00, 182.22 Samples/s]                \n"
     ]
    },
    {
     "name": "stdout",
     "output_type": "stream",
     "text": [
      "Initialised with 1338 image(s) found.\n",
      "Output directory set to after_filter/data_1/9\\output.Output directory set to: label/data_1/9\n"
     ]
    },
    {
     "name": "stderr",
     "output_type": "stream",
     "text": [
      "Processing <PIL.Image.Image image mode=RGB size=224x224 at 0x16CAFB5E350>: 100%|██████████| 5000/5000 [00:27<00:00, 184.50 Samples/s]                \n"
     ]
    },
    {
     "name": "stdout",
     "output_type": "stream",
     "text": [
      "Initialised with 1782 image(s) found.\n",
      "Output directory set to after_filter/data_1/10\\output.Output directory set to: label/data_1/10\n"
     ]
    },
    {
     "name": "stderr",
     "output_type": "stream",
     "text": [
      "Processing <PIL.Image.Image image mode=RGB size=224x224 at 0x16CAEB26B30>: 100%|██████████| 5000/5000 [00:26<00:00, 186.52 Samples/s]                \n"
     ]
    },
    {
     "name": "stdout",
     "output_type": "stream",
     "text": [
      "Initialised with 324 image(s) found.\n",
      "Output directory set to after_filter/data_1/11\\output.Output directory set to: label/data_1/11\n"
     ]
    },
    {
     "name": "stderr",
     "output_type": "stream",
     "text": [
      "Processing <PIL.Image.Image image mode=RGB size=224x224 at 0x16CAE9DC220>: 100%|██████████| 5000/5000 [00:28<00:00, 174.84 Samples/s]                \n"
     ]
    },
    {
     "name": "stdout",
     "output_type": "stream",
     "text": [
      "Initialised with 130 image(s) found.\n",
      "Output directory set to after_filter/data_1/12\\output.Output directory set to: label/data_1/12\n"
     ]
    },
    {
     "name": "stderr",
     "output_type": "stream",
     "text": [
      "Processing <PIL.Image.Image image mode=RGB size=224x224 at 0x16CAEA86D10>: 100%|██████████| 5000/5000 [00:27<00:00, 181.73 Samples/s]                \n"
     ]
    },
    {
     "name": "stdout",
     "output_type": "stream",
     "text": [
      "Initialised with 1272 image(s) found.\n",
      "Output directory set to after_filter/data_1/13\\output.Output directory set to: label/data_1/13\n"
     ]
    },
    {
     "name": "stderr",
     "output_type": "stream",
     "text": [
      "Processing <PIL.Image.Image image mode=RGB size=224x224 at 0x16CAE838370>: 100%|██████████| 5000/5000 [00:27<00:00, 183.66 Samples/s]                \n"
     ]
    },
    {
     "name": "stdout",
     "output_type": "stream",
     "text": [
      "Initialised with 142 image(s) found.\n",
      "Output directory set to after_filter/data_1/14\\output.Output directory set to: label/data_1/14\n"
     ]
    },
    {
     "name": "stderr",
     "output_type": "stream",
     "text": [
      "Processing <PIL.Image.Image image mode=RGB size=224x224 at 0x16CAE8F2170>: 100%|██████████| 5000/5000 [00:28<00:00, 177.11 Samples/s]                \n"
     ]
    }
   ],
   "execution_count": 12
  }
 ],
 "metadata": {
  "kernelspec": {
   "display_name": "Python 3",
   "language": "python",
   "name": "python3"
  },
  "language_info": {
   "codemirror_mode": {
    "name": "ipython",
    "version": 2
   },
   "file_extension": ".py",
   "mimetype": "text/x-python",
   "name": "python",
   "nbconvert_exporter": "python",
   "pygments_lexer": "ipython2",
   "version": "2.7.6"
  }
 },
 "nbformat": 4,
 "nbformat_minor": 5
}
