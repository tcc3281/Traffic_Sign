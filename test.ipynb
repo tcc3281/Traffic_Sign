{
 "cells": [
  {
   "metadata": {
    "jupyter": {
     "is_executing": true
    }
   },
   "cell_type": "code",
   "source": [
    "import numpy as np\n",
    "import tensorflow as tf\n",
    "from tensorflow.python.framework.ops import EagerTensor\n"
   ],
   "id": "7dcec9062a86264c",
   "outputs": [],
   "execution_count": null
  },
  {
   "metadata": {},
   "cell_type": "code",
   "outputs": [],
   "execution_count": null,
   "source": [
    "def compute_total_loss(logits, labels):\n",
    "    \"\"\"\n",
    "    Computes the total loss\n",
    "    \n",
    "    Arguments:\n",
    "    logits -- output of forward propagation (output of the last LINEAR unit), of shape (num_examples, num_classes)\n",
    "    labels -- \"true\" labels vector, same shape as logits\n",
    "    \n",
    "    Returns:\n",
    "    total_loss - Tensor of the total loss value\n",
    "    \"\"\"\n",
    "    \n",
    "    # Compute the categorical cross-entropy loss\n",
    "    total_loss = tf.reduce_sum(tf.keras.losses.categorical_crossentropy(logits, labels, from_logits=True))\n",
    "    \n",
    "    return total_loss"
   ],
   "id": "480d7aa6ad102a52"
  },
  {
   "cell_type": "code",
   "execution_count": null,
   "id": "initial_id",
   "metadata": {
    "collapsed": true
   },
   "outputs": [],
   "source": [
    "def compute_total_loss_test(target, Y):\n",
    "    pred = tf.constant([[ 2.4048107,   5.0334096 ],\n",
    "             [-0.7921977,  -4.1523376 ],\n",
    "             [ 0.9447198,  -0.46802214],\n",
    "             [ 1.158121,    3.9810789 ],\n",
    "             [ 4.768706,    2.3220146 ],\n",
    "             [ 6.1481323,   3.909829  ]])\n",
    "    minibatches = Y.batch(2)\n",
    "    for minibatch in minibatches:\n",
    "        result = target(pred, tf.transpose(minibatch))\n",
    "        break\n",
    "    \n",
    "    print(\"Test 1: \", result)\n",
    "    assert(type(result) == EagerTensor), \"Use the TensorFlow API\"\n",
    "    assert (np.abs(result - (0.50722074 + 1.1133534) / 2.0) < 1e-7), \"Test 1 does not match. Did you get the reduce sum of your loss functions?\"\n",
    "    \n",
    "    ### Test 2\n",
    "    labels = tf.constant([[1., 0., 0.], [0., 1., 0.], [0., 0., 1.]])\n",
    "    logits = tf.constant([[1., 0., 0.], [1., 0., 0.], [1., 0., 0.]])\n",
    "    \n",
    "    result = compute_total_loss(logits, labels)\n",
    "    print(\"Test 2: \", result)\n",
    "    assert np.allclose(result, 3.295837 ), \"Test 2 does not match.\"\n",
    "    \n",
    "    print(\"\\033[92mAll test passed\")\n",
    "\n",
    "compute_total_loss_test(compute_total_loss, new_y_train )"
   ]
  },
  {
   "metadata": {},
   "cell_type": "code",
   "outputs": [],
   "execution_count": null,
   "source": "",
   "id": "4ebdec6a436231dc"
  }
 ],
 "metadata": {
  "kernelspec": {
   "display_name": "Python 3",
   "language": "python",
   "name": "python3"
  },
  "language_info": {
   "codemirror_mode": {
    "name": "ipython",
    "version": 2
   },
   "file_extension": ".py",
   "mimetype": "text/x-python",
   "name": "python",
   "nbconvert_exporter": "python",
   "pygments_lexer": "ipython2",
   "version": "2.7.6"
  }
 },
 "nbformat": 4,
 "nbformat_minor": 5
}
