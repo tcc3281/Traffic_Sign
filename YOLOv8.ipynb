{
 "cells": [
  {
   "cell_type": "code",
   "id": "initial_id",
   "metadata": {
    "collapsed": true,
    "ExecuteTime": {
     "end_time": "2025-03-24T10:26:59.917487Z",
     "start_time": "2025-03-24T10:26:44.830599Z"
    }
   },
   "source": [
    "import tensorflow as tf\n",
    "import keras_cv\n",
    "from tensorflow.keras.optimizers import AdamW\n"
   ],
   "outputs": [
    {
     "name": "stderr",
     "output_type": "stream",
     "text": [
      "D:\\chientuhocai\\Traffic_Sign\\.venv\\Lib\\site-packages\\tqdm\\auto.py:21: TqdmWarning: IProgress not found. Please update jupyter and ipywidgets. See https://ipywidgets.readthedocs.io/en/stable/user_install.html\n",
      "  from .autonotebook import tqdm as notebook_tqdm\n"
     ]
    }
   ],
   "execution_count": 1
  },
  {
   "metadata": {
    "ExecuteTime": {
     "end_time": "2025-03-25T07:51:54.428001Z",
     "start_time": "2025-03-25T07:51:46.773876Z"
    }
   },
   "cell_type": "code",
   "source": [
    "from ultralytics import YOLO\n",
    "\n",
    "# Tải mô hình từ file .pt\n",
    "model = YOLO('model/custom_yolov8n_sigmoid_v1.pt')\n",
    "\n",
    "# In thông tin mô hình\n",
    "model.info()"
   ],
   "id": "dbbf58b53cb9cf6d",
   "outputs": [
    {
     "name": "stdout",
     "output_type": "stream",
     "text": [
      "Model summary: 129 layers, 3,011,043 parameters, 0 gradients, 8.2 GFLOPs\n"
     ]
    },
    {
     "data": {
      "text/plain": [
       "(129, 3011043, 0, 8.1941504)"
      ]
     },
     "execution_count": 1,
     "metadata": {},
     "output_type": "execute_result"
    }
   ],
   "execution_count": 1
  },
  {
   "metadata": {
    "ExecuteTime": {
     "end_time": "2025-03-25T07:52:12.662900Z",
     "start_time": "2025-03-25T07:52:08.355426Z"
    }
   },
   "cell_type": "code",
   "source": "results = model.predict('dataset/detect', save=True)",
   "id": "7924c4c3c5adefd2",
   "outputs": [
    {
     "name": "stdout",
     "output_type": "stream",
     "text": [
      "\n",
      "image 1/14 D:\\chientuhocai\\Traffic_Sign\\dataset\\detect\\Screenshot 2025-03-24 110555.png: 160x224 5 signs, 79.8ms\n",
      "image 2/14 D:\\chientuhocai\\Traffic_Sign\\dataset\\detect\\Screenshot 2025-03-24 110624.png: 160x224 (no detections), 26.0ms\n",
      "image 3/14 D:\\chientuhocai\\Traffic_Sign\\dataset\\detect\\Screenshot 2025-03-24 110647.png: 160x224 1 sign, 23.3ms\n",
      "image 4/14 D:\\chientuhocai\\Traffic_Sign\\dataset\\detect\\Screenshot 2025-03-24 110711.png: 160x224 1 sign, 27.8ms\n",
      "image 5/14 D:\\chientuhocai\\Traffic_Sign\\dataset\\detect\\Screenshot 2025-03-24 110742.png: 160x224 (no detections), 26.5ms\n",
      "image 6/14 D:\\chientuhocai\\Traffic_Sign\\dataset\\detect\\Screenshot 2025-03-24 110758.png: 160x224 1 sign, 24.4ms\n",
      "image 7/14 D:\\chientuhocai\\Traffic_Sign\\dataset\\detect\\Screenshot 2025-03-24 110815.png: 160x224 2 signs, 20.7ms\n",
      "image 8/14 D:\\chientuhocai\\Traffic_Sign\\dataset\\detect\\Screenshot 2025-03-24 110843.png: 160x224 (no detections), 21.3ms\n",
      "image 9/14 D:\\chientuhocai\\Traffic_Sign\\dataset\\detect\\Screenshot 2025-03-24 110852.png: 160x224 1 sign, 24.0ms\n",
      "image 10/14 D:\\chientuhocai\\Traffic_Sign\\dataset\\detect\\Screenshot 2025-03-24 110939.png: 160x224 1 sign, 24.9ms\n",
      "image 11/14 D:\\chientuhocai\\Traffic_Sign\\dataset\\detect\\Screenshot 2025-03-24 110953.png: 160x224 1 sign, 23.3ms\n",
      "image 12/14 D:\\chientuhocai\\Traffic_Sign\\dataset\\detect\\Screenshot 2025-03-24 111007.png: 160x224 1 sign, 25.1ms\n",
      "image 13/14 D:\\chientuhocai\\Traffic_Sign\\dataset\\detect\\Screenshot 2025-03-24 111034.png: 160x224 2 signs, 21.5ms\n",
      "image 14/14 D:\\chientuhocai\\Traffic_Sign\\dataset\\detect\\Screenshot 2025-03-24 111044.png: 160x224 1 sign, 24.8ms\n",
      "Speed: 1.6ms preprocess, 28.1ms inference, 1.8ms postprocess per image at shape (1, 3, 160, 224)\n",
      "Results saved to \u001B[1mD:\\tai_lieu\\pyself\\SignRecognize\\runs\\detect\\predict3\u001B[0m\n"
     ]
    }
   ],
   "execution_count": 2
  },
  {
   "metadata": {
    "ExecuteTime": {
     "end_time": "2025-03-24T10:28:26.521981Z",
     "start_time": "2025-03-24T10:28:26.379952Z"
    }
   },
   "cell_type": "code",
   "source": "model.info()",
   "id": "9977453afcf27a81",
   "outputs": [
    {
     "name": "stdout",
     "output_type": "stream",
     "text": [
      "Model summary: 129 layers, 3,011,043 parameters, 0 gradients, 8.2 GFLOPs\n"
     ]
    },
    {
     "data": {
      "text/plain": [
       "(129, 3011043, 0, 8.1941504)"
      ]
     },
     "execution_count": 9,
     "metadata": {},
     "output_type": "execute_result"
    }
   ],
   "execution_count": 9
  },
  {
   "metadata": {},
   "cell_type": "code",
   "outputs": [],
   "execution_count": null,
   "source": "",
   "id": "f2395256674a35f4"
  }
 ],
 "metadata": {
  "kernelspec": {
   "display_name": "Python 3",
   "language": "python",
   "name": "python3"
  },
  "language_info": {
   "codemirror_mode": {
    "name": "ipython",
    "version": 2
   },
   "file_extension": ".py",
   "mimetype": "text/x-python",
   "name": "python",
   "nbconvert_exporter": "python",
   "pygments_lexer": "ipython2",
   "version": "2.7.6"
  }
 },
 "nbformat": 4,
 "nbformat_minor": 5
}
