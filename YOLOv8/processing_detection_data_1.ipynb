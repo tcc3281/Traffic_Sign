{
 "cells": [
  {
   "cell_type": "code",
   "id": "initial_id",
   "metadata": {
    "collapsed": true,
    "ExecuteTime": {
     "end_time": "2025-03-17T16:54:47.928262Z",
     "start_time": "2025-03-17T16:54:47.923648Z"
    }
   },
   "source": [
    "import os\n",
    "from PIL import Image\n",
    "import pandas as pd\n",
    "import shutil\n",
    "from labels import draw_bbox\n",
    "import cv2\n",
    "from PIL import Image\n",
    "import numpy as np\n",
    "import os"
   ],
   "outputs": [],
   "execution_count": 37
  },
  {
   "metadata": {
    "ExecuteTime": {
     "end_time": "2025-03-17T16:54:48.200238Z",
     "start_time": "2025-03-17T16:54:48.192288Z"
    }
   },
   "cell_type": "code",
   "source": [
    "# Đường dẫn đến các thư mục chứa hình ảnh\n",
    "train_image_folders = ['../dataset/Traffic Sign Detection/train',\n",
    "                       '../dataset/Traffic Sign Detection/test',\n",
    "                       '../dataset/Traffic Sign Detection/valid',\n",
    "                       '../dataset/V2 - Traffic Signs/train',\n",
    "                       '../dataset/V2 - Traffic Signs/valid',\n",
    "                       '../dataset/TrafficSignLocalizationandDetection/train',\n",
    "                       '../dataset/TrafficSignLocalizationandDetection/test',\n",
    "                       '../dataset/TrafficSignLocalizationandDetection/valid',\n",
    "                       ]\n",
    "test_val_image_folders = ['../dataset/Vietnam Traffic Signs/train',\n",
    "                          '../dataset/Vietnam Traffic Signs 2/train',\n",
    "                          '../dataset/Vietnam Traffic Signs 2/valid',\n",
    "                          '../dataset/Vietnam Traffic Signs 2/test',\n",
    "                          ]\n",
    "target_ouput='../dataset/detection'\n",
    "size=640"
   ],
   "id": "7825efb6b388a0b4",
   "outputs": [],
   "execution_count": 38
  },
  {
   "metadata": {
    "ExecuteTime": {
     "end_time": "2025-03-17T16:54:48.415258Z",
     "start_time": "2025-03-17T16:54:48.402496Z"
    }
   },
   "cell_type": "code",
   "source": [
    "def read_image(image_folders):\n",
    "    # Tạo một danh sách để lưu thông tin về hình ảnh\n",
    "    image_data = []\n",
    "    print(len(image_folders))\n",
    "    # Lặp qua các thư mục và đọc hình ảnh\n",
    "    for folder in image_folders:\n",
    "        if not os.path.exists(folder):\n",
    "            print(f\"Đường dẫn không tồn tại: {folder}\")\n",
    "        else:\n",
    "            print(f\"Đọc hình ảnh từ: {folder}\")\n",
    "        image_folder = f'{folder}/images'\n",
    "        for filename in os.listdir(image_folder):\n",
    "            if filename.endswith('.jpg') or filename.endswith('.png'):  # Chỉ đọc file ảnh\n",
    "                img_path = os.path.join(image_folder, filename)\n",
    "                img = Image.open(img_path)\n",
    "                #check size of image\n",
    "                width, height = img.size\n",
    "                label_path = f'{folder}/labels/{filename[:-4]}.txt'\n",
    "                # Kiểm tra xem file nhãn có tồn tại không\n",
    "                if not os.path.exists(label_path):\n",
    "                    print(f\"File nhãn không tồn tại: {label_path}. Bỏ qua.\")\n",
    "                    continue\n",
    "                image_data.append(\n",
    "                    {'filename': filename,\n",
    "                     'image_path': f'{image_folder}/{filename}',\n",
    "                     'label_path': label_path,\n",
    "                     'width': width,\n",
    "                     'height': height}\n",
    "                )\n",
    "\n",
    "    # Chuyển danh sách thành DataFrame\n",
    "    df = pd.DataFrame(image_data)\n",
    "    return df"
   ],
   "id": "ed53c365664a49f9",
   "outputs": [],
   "execution_count": 39
  },
  {
   "metadata": {
    "ExecuteTime": {
     "end_time": "2025-03-17T16:55:03.681821Z",
     "start_time": "2025-03-17T16:54:48.619264Z"
    }
   },
   "cell_type": "code",
   "source": [
    "train_df = read_image(train_image_folders)\n",
    "valid_df = read_image(test_val_image_folders)\n",
    "train_df.shape, valid_df.shape"
   ],
   "id": "b0489114b7091b4c",
   "outputs": [
    {
     "name": "stdout",
     "output_type": "stream",
     "text": [
      "8\n",
      "Đọc hình ảnh từ: ../dataset/Traffic Sign Detection/train\n",
      "Đọc hình ảnh từ: ../dataset/Traffic Sign Detection/test\n",
      "Đọc hình ảnh từ: ../dataset/Traffic Sign Detection/valid\n",
      "Đọc hình ảnh từ: ../dataset/V2 - Traffic Signs/train\n",
      "Đọc hình ảnh từ: ../dataset/V2 - Traffic Signs/valid\n",
      "Đọc hình ảnh từ: ../dataset/TrafficSignLocalizationandDetection/train\n",
      "Đọc hình ảnh từ: ../dataset/TrafficSignLocalizationandDetection/test\n",
      "Đọc hình ảnh từ: ../dataset/TrafficSignLocalizationandDetection/valid\n",
      "4\n",
      "Đọc hình ảnh từ: ../dataset/Vietnam Traffic Signs/train\n",
      "Đọc hình ảnh từ: ../dataset/Vietnam Traffic Signs 2/train\n",
      "Đọc hình ảnh từ: ../dataset/Vietnam Traffic Signs 2/valid\n",
      "Đọc hình ảnh từ: ../dataset/Vietnam Traffic Signs 2/test\n"
     ]
    },
    {
     "data": {
      "text/plain": [
       "((11088, 5), (4386, 5))"
      ]
     },
     "execution_count": 40,
     "metadata": {},
     "output_type": "execute_result"
    }
   ],
   "execution_count": 40
  },
  {
   "metadata": {
    "ExecuteTime": {
     "end_time": "2025-03-17T16:55:04.392629Z",
     "start_time": "2025-03-17T16:55:03.721853Z"
    }
   },
   "cell_type": "code",
   "source": [
    "# plot width and height of image for train_df\n",
    "import matplotlib.pyplot as plt\n",
    "plt.figure(figsize=(10, 5))\n",
    "\n",
    "plt.subplot(2, 2, 1)\n",
    "plt.hist(train_df['width'], bins=30, color='r')\n",
    "plt.title('Train Width distribution')\n",
    "plt.xlabel('Width')\n",
    "plt.ylabel('Frequency')\n",
    "\n",
    "plt.subplot(2, 2, 2)\n",
    "plt.hist(train_df['height'], bins=30, color='b')\n",
    "plt.title('Train Height distribution')\n",
    "plt.xlabel('Height')\n",
    "plt.ylabel('Frequency')\n",
    "\n",
    "# plot width and height of image for valid_df\n",
    "plt.subplot(2, 2, 3)\n",
    "plt.hist(valid_df['width'], bins=30, color='r')\n",
    "plt.title('Valid Width distribution')\n",
    "plt.xlabel('Width')\n",
    "plt.ylabel('Frequency')\n",
    "\n",
    "plt.subplot(2, 2, 4)\n",
    "plt.hist(valid_df['height'], bins=30, color='b')\n",
    "plt.title('Valid Height distribution')\n",
    "plt.xlabel('Height')\n",
    "plt.ylabel('Frequency')\n",
    "\n",
    "plt.tight_layout()\n",
    "plt.show()"
   ],
   "id": "bfd1dc18c6ccbbbc",
   "outputs": [
    {
     "data": {
      "text/plain": [
       "<Figure size 1000x500 with 4 Axes>"
      ],
      "image/png": "[encoded data removed]"
     },
     "metadata": {},
     "output_type": "display_data"
    }
   ],
   "execution_count": 41
  },
  {
   "metadata": {
    "ExecuteTime": {
     "end_time": "2025-03-17T16:55:04.444242Z",
     "start_time": "2025-03-17T16:55:04.431096Z"
    }
   },
   "cell_type": "code",
   "source": [
    "# take 0.25 from valid_df add to train_df and keep 0.75 for valid_df\n",
    "valid_sample=valid_df.sample(frac=0.25, random_state=42)\n",
    "valid_remaining=valid_df.drop(valid_sample.index)\n",
    "\n",
    "train_df = pd.concat([train_df, valid_sample], ignore_index=True)\n",
    "valid_df = valid_remaining\n",
    "train_df.shape, valid_df.shape"
   ],
   "id": "b6dc95e7ce53ddf2",
   "outputs": [
    {
     "data": {
      "text/plain": [
       "((12184, 5), (3290, 5))"
      ]
     },
     "execution_count": 42,
     "metadata": {},
     "output_type": "execute_result"
    }
   ],
   "execution_count": 42
  },
  {
   "metadata": {
    "ExecuteTime": {
     "end_time": "2025-03-17T16:55:04.497362Z",
     "start_time": "2025-03-17T16:55:04.486561Z"
    }
   },
   "cell_type": "code",
   "source": [
    "def copy_data_from_df(df, output_folder, split='train'):\n",
    "    # Đường dẫn đến thư mục đầu ra cho ảnh và nhãn\n",
    "    output_images_folder = os.path.join(output_folder, split, 'images')\n",
    "    output_labels_folder = os.path.join(output_folder, split, 'labels')\n",
    "    \n",
    "    output_images_folder=output_images_folder.replace('\\\\','/')\n",
    "    output_labels_folder=output_labels_folder.replace('\\\\','/')\n",
    "\n",
    "    # Duyệt qua từng dòng trong DataFrame\n",
    "    for index, row in df.iterrows():\n",
    "        # Đường dẫn đến ảnh và nhãn trong DataFrame\n",
    "        src_image = row['image_path']\n",
    "        src_label = row['label_path']\n",
    "        filename = row['filename']\n",
    "\n",
    "        # Đường dẫn đến file đích trong thư mục đầu ra\n",
    "        dst_image = os.path.join(output_images_folder, filename)\n",
    "        dst_label = os.path.join(output_labels_folder, os.path.splitext(filename)[0] + '.txt')\n",
    "        \n",
    "        dst_image=dst_image.replace('\\\\','/')\n",
    "        dst_label=dst_label.replace('\\\\','/')\n",
    "        \n",
    "        # create folder if not exist\n",
    "        os.makedirs(os.path.dirname(dst_image), exist_ok=True)\n",
    "        os.makedirs(os.path.dirname(dst_label), exist_ok=True)\n",
    "\n",
    "        # Sao chép ảnh\n",
    "        if os.path.exists(src_image):\n",
    "            shutil.copy(src_image, dst_image)\n",
    "        else:\n",
    "            print(f\"File ảnh không tồn tại: {src_image}\")\n",
    "\n",
    "        # Sao chép nhãn\n",
    "        if os.path.exists(src_label):\n",
    "            shutil.copy(src_label, dst_label)\n",
    "        else:\n",
    "            print(f\"File nhãn không tồn tại: {src_label}\")"
   ],
   "id": "41c5f83aa912a0c6",
   "outputs": [],
   "execution_count": 43
  },
  {
   "metadata": {
    "ExecuteTime": {
     "end_time": "2025-03-17T16:55:04.550184Z",
     "start_time": "2025-03-17T16:55:04.538147Z"
    }
   },
   "cell_type": "code",
   "source": [
    "test_df = valid_df.sample(frac=0.5, random_state=42)\n",
    "valid_df = valid_df.drop(test_df.index)\n",
    "train_df.shape, valid_df.shape, test_df.shape"
   ],
   "id": "54c54307eaab1e41",
   "outputs": [
    {
     "data": {
      "text/plain": [
       "((12184, 5), (1645, 5), (1645, 5))"
      ]
     },
     "execution_count": 44,
     "metadata": {},
     "output_type": "execute_result"
    }
   ],
   "execution_count": 44
  },
  {
   "metadata": {
    "ExecuteTime": {
     "end_time": "2025-03-17T16:56:08.849460Z",
     "start_time": "2025-03-17T16:55:04.634119Z"
    }
   },
   "cell_type": "code",
   "source": [
    "copy_data_from_df(train_df, target_ouput, 'train')\n",
    "copy_data_from_df(valid_df, target_ouput, 'valid')\n",
    "copy_data_from_df(test_df, target_ouput, 'test')"
   ],
   "id": "ae88056b84942618",
   "outputs": [],
   "execution_count": 45
  },
  {
   "metadata": {
    "ExecuteTime": {
     "end_time": "2025-03-17T16:56:20.589037Z",
     "start_time": "2025-03-17T16:56:08.870109Z"
    }
   },
   "cell_type": "code",
   "source": [
    "train_df=read_image([f'{target_ouput}/train'])\n",
    "valid_df=read_image([f'{target_ouput}/valid'])\n",
    "test_df=read_image([f'{target_ouput}/test'])"
   ],
   "id": "732d3f6ebea4b718",
   "outputs": [
    {
     "name": "stdout",
     "output_type": "stream",
     "text": [
      "1\n",
      "Đọc hình ảnh từ: ../dataset/detection/train\n",
      "1\n",
      "Đọc hình ảnh từ: ../dataset/detection/valid\n",
      "1\n",
      "Đọc hình ảnh từ: ../dataset/detection/test\n"
     ]
    }
   ],
   "execution_count": 46
  },
  {
   "metadata": {
    "ExecuteTime": {
     "end_time": "2025-03-17T16:36:19.795148Z",
     "start_time": "2025-03-17T16:36:19.767316Z"
    }
   },
   "cell_type": "code",
   "source": "train_df.head(3)",
   "id": "9c620b32e957ec10",
   "outputs": [
    {
     "data": {
      "text/plain": [
       "                                            filename  \\\n",
       "0  000000_jpg.rf.9c2d93c681b7d38d50bf4f096a6baf03...   \n",
       "1  000000_jpg.rf.b11f308f16626f9f795a148029c46d10...   \n",
       "2  000001_jpg.rf.4f8eac6747a989e40bff9c86bc5d97be...   \n",
       "\n",
       "                                          image_path  \\\n",
       "0  ../dataset/detection/train/images/000000_jpg.r...   \n",
       "1  ../dataset/detection/train/images/000000_jpg.r...   \n",
       "2  ../dataset/detection/train/images/000001_jpg.r...   \n",
       "\n",
       "                                          label_path  width  height  \n",
       "0  ../dataset/detection/train/labels/000000_jpg.r...    416     416  \n",
       "1  ../dataset/detection/train/labels/000000_jpg.r...    416     416  \n",
       "2  ../dataset/detection/train/labels/000001_jpg.r...    416     416  "
      ],
      "text/html": [
       "<div>\n",
       "<style scoped>\n",
       "    .dataframe tbody tr th:only-of-type {\n",
       "        vertical-align: middle;\n",
       "    }\n",
       "\n",
       "    .dataframe tbody tr th {\n",
       "        vertical-align: top;\n",
       "    }\n",
       "\n",
       "    .dataframe thead th {\n",
       "        text-align: right;\n",
       "    }\n",
       "</style>\n",
       "<table border=\"1\" class=\"dataframe\">\n",
       "  <thead>\n",
       "    <tr style=\"text-align: right;\">\n",
       "      <th></th>\n",
       "      <th>filename</th>\n",
       "      <th>image_path</th>\n",
       "      <th>label_path</th>\n",
       "      <th>width</th>\n",
       "      <th>height</th>\n",
       "    </tr>\n",
       "  </thead>\n",
       "  <tbody>\n",
       "    <tr>\n",
       "      <th>0</th>\n",
       "      <td>000000_jpg.rf.9c2d93c681b7d38d50bf4f096a6baf03...</td>\n",
       "      <td>../dataset/detection/train/images/000000_jpg.r...</td>\n",
       "      <td>../dataset/detection/train/labels/000000_jpg.r...</td>\n",
       "      <td>416</td>\n",
       "      <td>416</td>\n",
       "    </tr>\n",
       "    <tr>\n",
       "      <th>1</th>\n",
       "      <td>000000_jpg.rf.b11f308f16626f9f795a148029c46d10...</td>\n",
       "      <td>../dataset/detection/train/images/000000_jpg.r...</td>\n",
       "      <td>../dataset/detection/train/labels/000000_jpg.r...</td>\n",
       "      <td>416</td>\n",
       "      <td>416</td>\n",
       "    </tr>\n",
       "    <tr>\n",
       "      <th>2</th>\n",
       "      <td>000001_jpg.rf.4f8eac6747a989e40bff9c86bc5d97be...</td>\n",
       "      <td>../dataset/detection/train/images/000001_jpg.r...</td>\n",
       "      <td>../dataset/detection/train/labels/000001_jpg.r...</td>\n",
       "      <td>416</td>\n",
       "      <td>416</td>\n",
       "    </tr>\n",
       "  </tbody>\n",
       "</table>\n",
       "</div>"
      ]
     },
     "execution_count": 8,
     "metadata": {},
     "output_type": "execute_result"
    }
   ],
   "execution_count": 8
  },
  {
   "metadata": {
    "ExecuteTime": {
     "end_time": "2025-03-17T16:36:19.869529Z",
     "start_time": "2025-03-17T16:36:19.858787Z"
    }
   },
   "cell_type": "code",
   "source": "valid_df.head(3)",
   "id": "84933db5fe57021c",
   "outputs": [
    {
     "data": {
      "text/plain": [
       "   filename                                  image_path  \\\n",
       "0  0002.jpg  ../dataset/detection/valid/images/0002.jpg   \n",
       "1  0003.jpg  ../dataset/detection/valid/images/0003.jpg   \n",
       "2  0004.jpg  ../dataset/detection/valid/images/0004.jpg   \n",
       "\n",
       "                                   label_path  width  height  \n",
       "0  ../dataset/detection/valid/labels/0002.txt    960     540  \n",
       "1  ../dataset/detection/valid/labels/0003.txt    960     540  \n",
       "2  ../dataset/detection/valid/labels/0004.txt    960     540  "
      ],
      "text/html": [
       "<div>\n",
       "<style scoped>\n",
       "    .dataframe tbody tr th:only-of-type {\n",
       "        vertical-align: middle;\n",
       "    }\n",
       "\n",
       "    .dataframe tbody tr th {\n",
       "        vertical-align: top;\n",
       "    }\n",
       "\n",
       "    .dataframe thead th {\n",
       "        text-align: right;\n",
       "    }\n",
       "</style>\n",
       "<table border=\"1\" class=\"dataframe\">\n",
       "  <thead>\n",
       "    <tr style=\"text-align: right;\">\n",
       "      <th></th>\n",
       "      <th>filename</th>\n",
       "      <th>image_path</th>\n",
       "      <th>label_path</th>\n",
       "      <th>width</th>\n",
       "      <th>height</th>\n",
       "    </tr>\n",
       "  </thead>\n",
       "  <tbody>\n",
       "    <tr>\n",
       "      <th>0</th>\n",
       "      <td>0002.jpg</td>\n",
       "      <td>../dataset/detection/valid/images/0002.jpg</td>\n",
       "      <td>../dataset/detection/valid/labels/0002.txt</td>\n",
       "      <td>960</td>\n",
       "      <td>540</td>\n",
       "    </tr>\n",
       "    <tr>\n",
       "      <th>1</th>\n",
       "      <td>0003.jpg</td>\n",
       "      <td>../dataset/detection/valid/images/0003.jpg</td>\n",
       "      <td>../dataset/detection/valid/labels/0003.txt</td>\n",
       "      <td>960</td>\n",
       "      <td>540</td>\n",
       "    </tr>\n",
       "    <tr>\n",
       "      <th>2</th>\n",
       "      <td>0004.jpg</td>\n",
       "      <td>../dataset/detection/valid/images/0004.jpg</td>\n",
       "      <td>../dataset/detection/valid/labels/0004.txt</td>\n",
       "      <td>960</td>\n",
       "      <td>540</td>\n",
       "    </tr>\n",
       "  </tbody>\n",
       "</table>\n",
       "</div>"
      ]
     },
     "execution_count": 9,
     "metadata": {},
     "output_type": "execute_result"
    }
   ],
   "execution_count": 9
  },
  {
   "metadata": {
    "ExecuteTime": {
     "end_time": "2025-03-17T16:36:20.008996Z",
     "start_time": "2025-03-17T16:36:19.997458Z"
    }
   },
   "cell_type": "code",
   "source": "test_df.head(3) ",
   "id": "94a94d1384adaf2b",
   "outputs": [
    {
     "data": {
      "text/plain": [
       "   filename                                 image_path  \\\n",
       "0  0001.jpg  ../dataset/detection/test/images/0001.jpg   \n",
       "1  0007.jpg  ../dataset/detection/test/images/0007.jpg   \n",
       "2  0008.jpg  ../dataset/detection/test/images/0008.jpg   \n",
       "\n",
       "                                  label_path  width  height  \n",
       "0  ../dataset/detection/test/labels/0001.txt    640     640  \n",
       "1  ../dataset/detection/test/labels/0007.txt    640     640  \n",
       "2  ../dataset/detection/test/labels/0008.txt    640     640  "
      ],
      "text/html": [
       "<div>\n",
       "<style scoped>\n",
       "    .dataframe tbody tr th:only-of-type {\n",
       "        vertical-align: middle;\n",
       "    }\n",
       "\n",
       "    .dataframe tbody tr th {\n",
       "        vertical-align: top;\n",
       "    }\n",
       "\n",
       "    .dataframe thead th {\n",
       "        text-align: right;\n",
       "    }\n",
       "</style>\n",
       "<table border=\"1\" class=\"dataframe\">\n",
       "  <thead>\n",
       "    <tr style=\"text-align: right;\">\n",
       "      <th></th>\n",
       "      <th>filename</th>\n",
       "      <th>image_path</th>\n",
       "      <th>label_path</th>\n",
       "      <th>width</th>\n",
       "      <th>height</th>\n",
       "    </tr>\n",
       "  </thead>\n",
       "  <tbody>\n",
       "    <tr>\n",
       "      <th>0</th>\n",
       "      <td>0001.jpg</td>\n",
       "      <td>../dataset/detection/test/images/0001.jpg</td>\n",
       "      <td>../dataset/detection/test/labels/0001.txt</td>\n",
       "      <td>640</td>\n",
       "      <td>640</td>\n",
       "    </tr>\n",
       "    <tr>\n",
       "      <th>1</th>\n",
       "      <td>0007.jpg</td>\n",
       "      <td>../dataset/detection/test/images/0007.jpg</td>\n",
       "      <td>../dataset/detection/test/labels/0007.txt</td>\n",
       "      <td>640</td>\n",
       "      <td>640</td>\n",
       "    </tr>\n",
       "    <tr>\n",
       "      <th>2</th>\n",
       "      <td>0008.jpg</td>\n",
       "      <td>../dataset/detection/test/images/0008.jpg</td>\n",
       "      <td>../dataset/detection/test/labels/0008.txt</td>\n",
       "      <td>640</td>\n",
       "      <td>640</td>\n",
       "    </tr>\n",
       "  </tbody>\n",
       "</table>\n",
       "</div>"
      ]
     },
     "execution_count": 10,
     "metadata": {},
     "output_type": "execute_result"
    }
   ],
   "execution_count": 10
  },
  {
   "metadata": {
    "ExecuteTime": {
     "end_time": "2025-03-17T16:39:57.222241Z",
     "start_time": "2025-03-17T16:39:57.212949Z"
    }
   },
   "cell_type": "code",
   "source": [
    "import cv2\n",
    "import numpy as np\n",
    "\n",
    "def resize_and_save(image_path, label_path, new_size=(640,640)):\n",
    "    # Đọc ảnh\n",
    "    image = cv2.imread(image_path)\n",
    "    original_height, original_width = image.shape[:2]\n",
    "\n",
    "    # Resize ảnh\n",
    "    resized_image = cv2.resize(image, new_size)\n",
    "    new_width, new_height = new_size\n",
    "\n",
    "    # Đọc file label\n",
    "    with open(label_path, 'r') as file:\n",
    "        lines = file.readlines()\n",
    "\n",
    "    # Điều chỉnh bounding box\n",
    "    new_lines = []\n",
    "    for line in lines:\n",
    "        class_id, x_center, y_center, width, height = map(float, line.split())\n",
    "\n",
    "        # Tính toán tỷ lệ resize\n",
    "        x_scale = new_width / original_width\n",
    "        y_scale = new_height / original_height\n",
    "\n",
    "        # Điều chỉnh tọa độ và kích thước bounding box\n",
    "        new_x_center = x_center * x_scale\n",
    "        new_y_center = y_center * y_scale\n",
    "        new_width_box = width * x_scale\n",
    "        new_height_box = height * y_scale\n",
    "\n",
    "        # Chuẩn hóa lại tọa độ và kích thước về [0, 1]\n",
    "        new_x_center /= new_width\n",
    "        new_y_center /= new_height\n",
    "        new_width_box /= new_width\n",
    "        new_height_box /= new_height\n",
    "\n",
    "        # Ghi lại thông tin bounding box mới\n",
    "        new_lines.append(f\"{int(class_id)} {new_x_center:.6f} {new_y_center:.6f} {new_width_box:.6f} {new_height_box:.6f}\\n\")\n",
    "\n",
    "    # Lưu ảnh đã resize\n",
    "    cv2.imwrite(image_path, resized_image)\n",
    "\n",
    "    # Lưu file label mới\n",
    "    with open(label_path, 'w') as file:\n",
    "        file.writelines(new_lines)\n",
    "\n"
   ],
   "id": "94ee77b45677ab72",
   "outputs": [],
   "execution_count": 20
  },
  {
   "metadata": {
    "ExecuteTime": {
     "end_time": "2025-03-17T16:45:20.116065Z",
     "start_time": "2025-03-17T16:39:57.806256Z"
    }
   },
   "cell_type": "code",
   "source": [
    "# resize image and save to target folder\n",
    "for index, row in train_df.iterrows():\n",
    "    resize_and_save(row['image_path'], row['label_path'])\n",
    "print('Train data done')\n",
    "for index, row in valid_df.iterrows():\n",
    "    resize_and_save(row['image_path'], row['label_path'])\n",
    "print('Valid data done')\n",
    "for index, row in test_df.iterrows():\n",
    "    resize_and_save(row['image_path'], row['label_path'])\n",
    "print('Test data done')"
   ],
   "id": "68e79d5f208a2627",
   "outputs": [],
   "execution_count": 21
  },
  {
   "metadata": {
    "ExecuteTime": {
     "end_time": "2025-03-17T16:45:48.698299Z",
     "start_time": "2025-03-17T16:45:20.202456Z"
    }
   },
   "cell_type": "code",
   "source": [
    "train_df=read_image([f'{target_ouput}/train'])\n",
    "valid_df=read_image([f'{target_ouput}/valid'])\n",
    "test_df=read_image([f'{target_ouput}/test'])"
   ],
   "id": "8f4e8b92cfa77c24",
   "outputs": [
    {
     "name": "stdout",
     "output_type": "stream",
     "text": [
      "1\n",
      "Đọc hình ảnh từ: ../dataset/detection/train\n",
      "1\n",
      "Đọc hình ảnh từ: ../dataset/detection/valid\n",
      "1\n",
      "Đọc hình ảnh từ: ../dataset/detection/test\n"
     ]
    }
   ],
   "execution_count": 22
  },
  {
   "metadata": {
    "ExecuteTime": {
     "end_time": "2025-03-17T16:45:48.735003Z",
     "start_time": "2025-03-17T16:45:48.724408Z"
    }
   },
   "cell_type": "code",
   "source": "train_df.head(3)",
   "id": "12a5a85757c6d706",
   "outputs": [
    {
     "data": {
      "text/plain": [
       "                                            filename  \\\n",
       "0  000000_jpg.rf.9c2d93c681b7d38d50bf4f096a6baf03...   \n",
       "1  000000_jpg.rf.b11f308f16626f9f795a148029c46d10...   \n",
       "2  000001_jpg.rf.4f8eac6747a989e40bff9c86bc5d97be...   \n",
       "\n",
       "                                          image_path  \\\n",
       "0  ../dataset/detection/train/images/000000_jpg.r...   \n",
       "1  ../dataset/detection/train/images/000000_jpg.r...   \n",
       "2  ../dataset/detection/train/images/000001_jpg.r...   \n",
       "\n",
       "                                          label_path  width  height  \n",
       "0  ../dataset/detection/train/labels/000000_jpg.r...    640     640  \n",
       "1  ../dataset/detection/train/labels/000000_jpg.r...    640     640  \n",
       "2  ../dataset/detection/train/labels/000001_jpg.r...    640     640  "
      ],
      "text/html": [
       "<div>\n",
       "<style scoped>\n",
       "    .dataframe tbody tr th:only-of-type {\n",
       "        vertical-align: middle;\n",
       "    }\n",
       "\n",
       "    .dataframe tbody tr th {\n",
       "        vertical-align: top;\n",
       "    }\n",
       "\n",
       "    .dataframe thead th {\n",
       "        text-align: right;\n",
       "    }\n",
       "</style>\n",
       "<table border=\"1\" class=\"dataframe\">\n",
       "  <thead>\n",
       "    <tr style=\"text-align: right;\">\n",
       "      <th></th>\n",
       "      <th>filename</th>\n",
       "      <th>image_path</th>\n",
       "      <th>label_path</th>\n",
       "      <th>width</th>\n",
       "      <th>height</th>\n",
       "    </tr>\n",
       "  </thead>\n",
       "  <tbody>\n",
       "    <tr>\n",
       "      <th>0</th>\n",
       "      <td>000000_jpg.rf.9c2d93c681b7d38d50bf4f096a6baf03...</td>\n",
       "      <td>../dataset/detection/train/images/000000_jpg.r...</td>\n",
       "      <td>../dataset/detection/train/labels/000000_jpg.r...</td>\n",
       "      <td>640</td>\n",
       "      <td>640</td>\n",
       "    </tr>\n",
       "    <tr>\n",
       "      <th>1</th>\n",
       "      <td>000000_jpg.rf.b11f308f16626f9f795a148029c46d10...</td>\n",
       "      <td>../dataset/detection/train/images/000000_jpg.r...</td>\n",
       "      <td>../dataset/detection/train/labels/000000_jpg.r...</td>\n",
       "      <td>640</td>\n",
       "      <td>640</td>\n",
       "    </tr>\n",
       "    <tr>\n",
       "      <th>2</th>\n",
       "      <td>000001_jpg.rf.4f8eac6747a989e40bff9c86bc5d97be...</td>\n",
       "      <td>../dataset/detection/train/images/000001_jpg.r...</td>\n",
       "      <td>../dataset/detection/train/labels/000001_jpg.r...</td>\n",
       "      <td>640</td>\n",
       "      <td>640</td>\n",
       "    </tr>\n",
       "  </tbody>\n",
       "</table>\n",
       "</div>"
      ]
     },
     "execution_count": 23,
     "metadata": {},
     "output_type": "execute_result"
    }
   ],
   "execution_count": 23
  },
  {
   "metadata": {
    "ExecuteTime": {
     "end_time": "2025-03-17T16:45:51.887154Z",
     "start_time": "2025-03-17T16:45:48.831115Z"
    }
   },
   "cell_type": "code",
   "source": [
    "# plot width and height of image for train_df, valid_df, and test_df\n",
    "import matplotlib.pyplot as plt\n",
    "plt.figure(figsize=(15, 10))\n",
    "\n",
    "plt.subplot(3, 2, 1)\n",
    "plt.hist(train_df['width'], bins=30, color='r')\n",
    "plt.title('Train Width distribution')\n",
    "plt.xlabel('Width')\n",
    "plt.ylabel('Frequency')\n",
    "\n",
    "plt.subplot(3, 2, 2)\n",
    "plt.hist(train_df['height'], bins=30, color='b')\n",
    "plt.title('Train Height distribution')\n",
    "plt.xlabel('Height')\n",
    "plt.ylabel('Frequency')\n",
    "\n",
    "plt.subplot(3, 2, 3)\n",
    "plt.hist(valid_df['width'], bins=30, color='r')\n",
    "plt.title('Valid Width distribution')\n",
    "plt.xlabel('Width')\n",
    "plt.ylabel('Frequency')\n",
    "\n",
    "plt.subplot(3, 2, 4)\n",
    "plt.hist(valid_df['height'], bins=30, color='b')\n",
    "plt.title('Valid Height distribution')\n",
    "plt.xlabel('Height')\n",
    "plt.ylabel('Frequency')\n",
    "\n",
    "plt.subplot(3, 2, 5)\n",
    "plt.hist(test_df['width'], bins=30, color='r')\n",
    "plt.title('Test Width distribution')\n",
    "plt.xlabel('Width')\n",
    "plt.ylabel('Frequency')\n",
    "\n",
    "plt.subplot(3, 2, 6)\n",
    "plt.hist(test_df['height'], bins=30, color='b')\n",
    "plt.title('Test Height distribution')\n",
    "plt.xlabel('Height')\n",
    "plt.ylabel('Frequency')\n",
    "\n",
    "plt.tight_layout()\n",
    "plt.show()"
   ],
   "id": "25948181cfe12c56",
   "outputs": [
    {
     "data": {
      "text/plain": [
       "<Figure size 1500x1000 with 6 Axes>"
      ],
      "image/png": "[encoded data removed]"
     },
     "metadata": {},
     "output_type": "display_data"
    }
   ],
   "execution_count": 24
  },
  {
   "metadata": {
    "ExecuteTime": {
     "end_time": "2025-03-17T16:49:43.837325Z",
     "start_time": "2025-03-17T16:45:51.979367Z"
    }
   },
   "cell_type": "code",
   "source": [
    "for index, row in train_df.iterrows():\n",
    "    draw_bbox(row['image_path'], row['label_path'])\n",
    "print('Train data done')\n",
    "for index, row in valid_df.iterrows():\n",
    "    draw_bbox(row['image_path'], row['label_path'])\n",
    "print('Valid data done')\n",
    "for index, row in test_df.iterrows():\n",
    "    draw_bbox(row['image_path'], row['label_path'])\n",
    "print('Test data done')"
   ],
   "id": "ac11e97c0e019baf",
   "outputs": [
    {
     "name": "stdout",
     "output_type": "stream",
     "text": [
      "Train data done\n",
      "Valid data done\n",
      "Test data done\n"
     ]
    }
   ],
   "execution_count": 25
  },
  {
   "metadata": {},
   "cell_type": "code",
   "outputs": [],
   "execution_count": null,
   "source": "",
   "id": "ba6721fde9243c8a"
  }
 ],
 "metadata": {
  "kernelspec": {
   "display_name": "Python 3",
   "language": "python",
   "name": "python3"
  },
  "language_info": {
   "codemirror_mode": {
    "name": "ipython",
    "version": 2
   },
   "file_extension": ".py",
   "mimetype": "text/x-python",
   "name": "python",
   "nbconvert_exporter": "python",
   "pygments_lexer": "ipython2",
   "version": "2.7.6"
  }
 },
 "nbformat": 4,
 "nbformat_minor": 5
}
