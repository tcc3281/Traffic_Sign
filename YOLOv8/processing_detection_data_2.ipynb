{
 "cells": [
  {
   "cell_type": "code",
   "id": "initial_id",
   "metadata": {
    "collapsed": true,
    "ExecuteTime": {
     "end_time": "2025-03-18T07:09:32.330019Z",
     "start_time": "2025-03-18T07:09:31.538604Z"
    }
   },
   "source": [
    "import os\n",
    "from PIL import Image\n",
    "import pandas as pd\n",
    "import numpy as np\n",
    "import cv2"
   ],
   "outputs": [],
   "execution_count": 1
  },
  {
   "metadata": {
    "ExecuteTime": {
     "end_time": "2025-03-18T07:09:32.342343Z",
     "start_time": "2025-03-18T07:09:32.337063Z"
    }
   },
   "cell_type": "code",
   "source": [
    "train_dir=['../dataset/detection_2/train']\n",
    "valid_dir=['../dataset/detection_2/valid']\n",
    "test_dir=['../dataset/detection_2/test']"
   ],
   "id": "7825efb6b388a0b4",
   "outputs": [],
   "execution_count": 2
  },
  {
   "metadata": {
    "ExecuteTime": {
     "end_time": "2025-03-18T07:09:32.700302Z",
     "start_time": "2025-03-18T07:09:32.688450Z"
    }
   },
   "cell_type": "code",
   "source": [
    "def read_image(image_folders):\n",
    "    # Tạo một danh sách để lưu thông tin về hình ảnh\n",
    "    image_data = []\n",
    "    # Lặp qua các thư mục và đọc hình ảnh\n",
    "    for folder in image_folders:\n",
    "        if not os.path.exists(folder):\n",
    "            print(f\"Đường dẫn không tồn tại: {folder}\")\n",
    "        else:\n",
    "            print(f\"Đọc hình ảnh từ: {folder}\")\n",
    "        image_folder = f'{folder}/images'\n",
    "        for filename in os.listdir(image_folder):\n",
    "            if filename.endswith('.jpg') or filename.endswith('.png'):  # Chỉ đọc file ảnh\n",
    "                img_path = os.path.join(image_folder, filename)\n",
    "                img = Image.open(img_path)\n",
    "                #check size of image\n",
    "                width, height = img.size\n",
    "                label_path = f'{folder}/labels/{filename[:-4]}.txt'\n",
    "                # Kiểm tra xem file nhãn có tồn tại không\n",
    "                if not os.path.exists(label_path):\n",
    "                    print(f\"File nhãn không tồn tại: {label_path}. Bỏ qua.\")\n",
    "                    continue\n",
    "                image_data.append(\n",
    "                    {'filename': filename,\n",
    "                     'image_path': f'{image_folder}/{filename}',\n",
    "                     'label_path': label_path,\n",
    "                     'width': width,\n",
    "                     'height': height}\n",
    "                )\n",
    "\n",
    "    # Chuyển danh sách thành DataFrame\n",
    "    df = pd.DataFrame(image_data)\n",
    "    return df"
   ],
   "id": "ed53c365664a49f9",
   "outputs": [],
   "execution_count": 3
  },
  {
   "metadata": {
    "ExecuteTime": {
     "end_time": "2025-03-18T07:09:39.992614Z",
     "start_time": "2025-03-18T07:09:34.253786Z"
    }
   },
   "cell_type": "code",
   "source": [
    "train_df = read_image(train_dir)\n",
    "valid_df = read_image(valid_dir)\n",
    "test_df = read_image(test_dir)\n",
    "train_df.shape, valid_df.shape, test_df.shape"
   ],
   "id": "b0489114b7091b4c",
   "outputs": [
    {
     "name": "stdout",
     "output_type": "stream",
     "text": [
      "Đọc hình ảnh từ: ../dataset/detection_2/train\n",
      "Đọc hình ảnh từ: ../dataset/detection_2/valid\n",
      "Đọc hình ảnh từ: ../dataset/detection_2/test\n"
     ]
    },
    {
     "data": {
      "text/plain": [
       "((12172, 5), (1613, 5), (1609, 5))"
      ]
     },
     "execution_count": 4,
     "metadata": {},
     "output_type": "execute_result"
    }
   ],
   "execution_count": 4
  },
  {
   "metadata": {
    "ExecuteTime": {
     "end_time": "2025-03-17T08:54:52.050795Z",
     "start_time": "2025-03-17T08:54:52.033319Z"
    }
   },
   "cell_type": "code",
   "source": "train_df.head(5)",
   "id": "c52e5ca1b3a158e6",
   "outputs": [
    {
     "data": {
      "text/plain": [
       "                                            filename  \\\n",
       "0  000000_jpg.rf.9c2d93c681b7d38d50bf4f096a6baf03...   \n",
       "1  000000_jpg.rf.b11f308f16626f9f795a148029c46d10...   \n",
       "2  000001_jpg.rf.4f8eac6747a989e40bff9c86bc5d97be...   \n",
       "3  000001_jpg.rf.5eb4f984823b1a44afc9bf98804daa50...   \n",
       "4  000002_jpg.rf.0fbb15854c0866ff8449b3f32f9dd0e5...   \n",
       "\n",
       "                                          image_path  \\\n",
       "0  ../dataset/detection/train/images/000000_jpg.r...   \n",
       "1  ../dataset/detection/train/images/000000_jpg.r...   \n",
       "2  ../dataset/detection/train/images/000001_jpg.r...   \n",
       "3  ../dataset/detection/train/images/000001_jpg.r...   \n",
       "4  ../dataset/detection/train/images/000002_jpg.r...   \n",
       "\n",
       "                                          label_path  width  height  \n",
       "0  ../dataset/detection/train/labels/000000_jpg.r...    416     416  \n",
       "1  ../dataset/detection/train/labels/000000_jpg.r...    416     416  \n",
       "2  ../dataset/detection/train/labels/000001_jpg.r...    416     416  \n",
       "3  ../dataset/detection/train/labels/000001_jpg.r...    416     416  \n",
       "4  ../dataset/detection/train/labels/000002_jpg.r...    416     416  "
      ],
      "text/html": [
       "<div>\n",
       "<style scoped>\n",
       "    .dataframe tbody tr th:only-of-type {\n",
       "        vertical-align: middle;\n",
       "    }\n",
       "\n",
       "    .dataframe tbody tr th {\n",
       "        vertical-align: top;\n",
       "    }\n",
       "\n",
       "    .dataframe thead th {\n",
       "        text-align: right;\n",
       "    }\n",
       "</style>\n",
       "<table border=\"1\" class=\"dataframe\">\n",
       "  <thead>\n",
       "    <tr style=\"text-align: right;\">\n",
       "      <th></th>\n",
       "      <th>filename</th>\n",
       "      <th>image_path</th>\n",
       "      <th>label_path</th>\n",
       "      <th>width</th>\n",
       "      <th>height</th>\n",
       "    </tr>\n",
       "  </thead>\n",
       "  <tbody>\n",
       "    <tr>\n",
       "      <th>0</th>\n",
       "      <td>000000_jpg.rf.9c2d93c681b7d38d50bf4f096a6baf03...</td>\n",
       "      <td>../dataset/detection/train/images/000000_jpg.r...</td>\n",
       "      <td>../dataset/detection/train/labels/000000_jpg.r...</td>\n",
       "      <td>416</td>\n",
       "      <td>416</td>\n",
       "    </tr>\n",
       "    <tr>\n",
       "      <th>1</th>\n",
       "      <td>000000_jpg.rf.b11f308f16626f9f795a148029c46d10...</td>\n",
       "      <td>../dataset/detection/train/images/000000_jpg.r...</td>\n",
       "      <td>../dataset/detection/train/labels/000000_jpg.r...</td>\n",
       "      <td>416</td>\n",
       "      <td>416</td>\n",
       "    </tr>\n",
       "    <tr>\n",
       "      <th>2</th>\n",
       "      <td>000001_jpg.rf.4f8eac6747a989e40bff9c86bc5d97be...</td>\n",
       "      <td>../dataset/detection/train/images/000001_jpg.r...</td>\n",
       "      <td>../dataset/detection/train/labels/000001_jpg.r...</td>\n",
       "      <td>416</td>\n",
       "      <td>416</td>\n",
       "    </tr>\n",
       "    <tr>\n",
       "      <th>3</th>\n",
       "      <td>000001_jpg.rf.5eb4f984823b1a44afc9bf98804daa50...</td>\n",
       "      <td>../dataset/detection/train/images/000001_jpg.r...</td>\n",
       "      <td>../dataset/detection/train/labels/000001_jpg.r...</td>\n",
       "      <td>416</td>\n",
       "      <td>416</td>\n",
       "    </tr>\n",
       "    <tr>\n",
       "      <th>4</th>\n",
       "      <td>000002_jpg.rf.0fbb15854c0866ff8449b3f32f9dd0e5...</td>\n",
       "      <td>../dataset/detection/train/images/000002_jpg.r...</td>\n",
       "      <td>../dataset/detection/train/labels/000002_jpg.r...</td>\n",
       "      <td>416</td>\n",
       "      <td>416</td>\n",
       "    </tr>\n",
       "  </tbody>\n",
       "</table>\n",
       "</div>"
      ]
     },
     "execution_count": 5,
     "metadata": {},
     "output_type": "execute_result"
    }
   ],
   "execution_count": 5
  },
  {
   "metadata": {
    "ExecuteTime": {
     "end_time": "2025-03-18T07:09:47.787138Z",
     "start_time": "2025-03-18T07:09:45.739528Z"
    }
   },
   "cell_type": "code",
   "source": [
    "import matplotlib.pyplot as plt\n",
    "\n",
    "# Giả sử train_df, valid_df và test_df đã được định nghĩa\n",
    "# Vẽ biểu đồ phân phối chiều rộng và chiều cao của ảnh trong train, valid và test\n",
    "\n",
    "plt.figure(figsize=(15, 10))\n",
    "\n",
    "# Train width and height distribution\n",
    "plt.subplot(3, 2, 1)\n",
    "plt.hist(train_df['width'], bins=30, color='r')\n",
    "plt.title('Train Width distribution')\n",
    "plt.xlabel('Width')\n",
    "plt.ylabel('Frequency')\n",
    "\n",
    "plt.subplot(3, 2, 2)\n",
    "plt.hist(train_df['height'], bins=30, color='b')\n",
    "plt.title('Train Height distribution')\n",
    "plt.xlabel('Height')\n",
    "plt.ylabel('Frequency')\n",
    "\n",
    "# Valid width and height distribution\n",
    "plt.subplot(3, 2, 3)\n",
    "plt.hist(valid_df['width'], bins=30, color='r')\n",
    "plt.title('Valid Width distribution')\n",
    "plt.xlabel('Width')\n",
    "plt.ylabel('Frequency')\n",
    "\n",
    "plt.subplot(3, 2, 4)\n",
    "plt.hist(valid_df['height'], bins=30, color='b')\n",
    "plt.title('Valid Height distribution')\n",
    "plt.xlabel('Height')\n",
    "plt.ylabel('Frequency')\n",
    "\n",
    "# Test width and height distribution\n",
    "plt.subplot(3, 2, 5)\n",
    "plt.hist(test_df['width'], bins=30, color='r')\n",
    "plt.title('Test Width distribution')\n",
    "plt.xlabel('Width')\n",
    "plt.ylabel('Frequency')\n",
    "\n",
    "plt.subplot(3, 2, 6)\n",
    "plt.hist(test_df['height'], bins=30, color='b')\n",
    "plt.title('Test Height distribution')\n",
    "plt.xlabel('Height')\n",
    "plt.ylabel('Frequency')\n",
    "\n",
    "# Hiển thị biểu đồ\n",
    "plt.tight_layout()\n",
    "plt.show()"
   ],
   "id": "68d9728024c5d948",
   "outputs": [
    {
     "data": {
      "text/plain": [
       "<Figure size 1500x1000 with 6 Axes>"
      ],
      "image/png": "[encoded data removed]"
     },
     "metadata": {},
     "output_type": "display_data"
    }
   ],
   "execution_count": 5
  },
  {
   "metadata": {
    "ExecuteTime": {
     "end_time": "2025-03-17T08:45:26.329867Z",
     "start_time": "2025-03-17T08:45:26.321469Z"
    }
   },
   "cell_type": "code",
   "source": [
    "def remove_trailing_empty_lines(file_path):\n",
    "    # Read\n",
    "    with open(file_path, 'r') as file:\n",
    "        lines = file.readlines()\n",
    "    cleaned_lines = [line.rstrip('\\n') for line in lines]\n",
    "\n",
    "    # Write the cleaned lines back to the file\n",
    "    with open(file_path, 'w') as file:\n",
    "        for line in cleaned_lines[:len(cleaned_lines) - 1]:\n",
    "            file.write(line + '\\n')    \n",
    "        try:\n",
    "            file.write(cleaned_lines[-1])\n",
    "        except IndexError:\n",
    "            print(file_path)\n",
    "# Ví dụ sử dụng hàm"
   ],
   "id": "dcb3b429010182ca",
   "outputs": [],
   "execution_count": 114
  },
  {
   "metadata": {
    "ExecuteTime": {
     "end_time": "2025-03-17T08:45:36.563495Z",
     "start_time": "2025-03-17T08:45:26.374633Z"
    }
   },
   "cell_type": "code",
   "source": [
    "for row in test_df.iterrows():\n",
    "    _, data = row\n",
    "    remove_trailing_empty_lines(data['label_path'])\n",
    "    \n",
    "for row in valid_df.iterrows():\n",
    "    _, data = row\n",
    "    remove_trailing_empty_lines(data['label_path'])\n",
    "    \n",
    "for row in train_df.iterrows():\n",
    "    _, data = row\n",
    "    remove_trailing_empty_lines(data['label_path'])\n",
    "    "
   ],
   "id": "e262cede6fc5cb10",
   "outputs": [],
   "execution_count": 115
  },
  {
   "metadata": {
    "ExecuteTime": {
     "end_time": "2025-03-17T08:45:36.602039Z",
     "start_time": "2025-03-17T08:45:36.594424Z"
    }
   },
   "cell_type": "code",
   "source": [
    "#remove image with no bounding box in label\n",
    "def remove_image_with_no_bbox(image_path, label_path):\n",
    "    with open(label_path, 'r') as file:\n",
    "        lines = file.readlines()\n",
    "    if len(lines) == 0:\n",
    "        os.remove(image_path)\n",
    "        os.remove(label_path)"
   ],
   "id": "fa6ee00f62dc1a08",
   "outputs": [],
   "execution_count": 116
  },
  {
   "metadata": {
    "ExecuteTime": {
     "end_time": "2025-03-17T08:45:44.065861Z",
     "start_time": "2025-03-17T08:45:36.641851Z"
    }
   },
   "cell_type": "code",
   "source": [
    "for row in test_df.iterrows():\n",
    "    _, data = row\n",
    "    remove_image_with_no_bbox(data['image_path'], data['label_path'])\n",
    "for row in valid_df.iterrows():\n",
    "    _, data = row\n",
    "    remove_image_with_no_bbox(data['image_path'], data['label_path'])\n",
    "    \n",
    "for row in train_df.iterrows():\n",
    "    _, data = row\n",
    "    remove_image_with_no_bbox(data['image_path'], data['label_path'])\n",
    "    "
   ],
   "id": "44410b746142a10b",
   "outputs": [],
   "execution_count": 117
  },
  {
   "metadata": {
    "ExecuteTime": {
     "end_time": "2025-03-17T09:23:03.856205Z",
     "start_time": "2025-03-17T09:23:03.842616Z"
    }
   },
   "cell_type": "code",
   "source": [
    "def convert_bounding_box_xyxy_to_xywh(label_file):\n",
    "    with open(label_file, 'r') as file:\n",
    "        lines = file.readlines()\n",
    "    new_lines = []\n",
    "    for line in lines:\n",
    "        line = line.strip().split()\n",
    "        if len(line) == 0:\n",
    "            continue\n",
    "        # Convert to xywh\n",
    "        x_center = float(line[1])\n",
    "        y_center = float(line[2])\n",
    "        width = float(line[3])\n",
    "        height = float(line[4])\n",
    "        x_min = x_center - width / 2\n",
    "        y_min = y_center - height / 2\n",
    "        new_line = f\"{line[0]} {x_min} {y_min} {width} {height}\\n\"\n",
    "        new_lines.append(new_line)\n",
    "    with open(label_file, 'w') as file:\n",
    "        for line in new_lines:\n",
    "            file.write(line)"
   ],
   "id": "4836d6a82c10841d",
   "outputs": [],
   "execution_count": 12
  },
  {
   "metadata": {
    "ExecuteTime": {
     "end_time": "2025-03-17T09:23:08.176542Z",
     "start_time": "2025-03-17T09:23:04.560326Z"
    }
   },
   "cell_type": "code",
   "source": [
    "for row in test_df.iterrows():\n",
    "    _, data = row\n",
    "    convert_bounding_box_xyxy_to_xywh(data['label_path'])\n",
    "for row in valid_df.iterrows():\n",
    "    _, data = row\n",
    "    convert_bounding_box_xyxy_to_xywh(data['label_path'])\n",
    "for row in train_df.iterrows():\n",
    "    _, data = row\n",
    "    convert_bounding_box_xyxy_to_xywh(data['label_path'])"
   ],
   "id": "78f40c136dabe7d3",
   "outputs": [],
   "execution_count": 13
  },
  {
   "metadata": {},
   "cell_type": "code",
   "outputs": [],
   "execution_count": null,
   "source": "",
   "id": "acf0257d8f001fb7"
  }
 ],
 "metadata": {
  "kernelspec": {
   "display_name": "Python 3",
   "language": "python",
   "name": "python3"
  },
  "language_info": {
   "codemirror_mode": {
    "name": "ipython",
    "version": 2
   },
   "file_extension": ".py",
   "mimetype": "text/x-python",
   "name": "python",
   "nbconvert_exporter": "python",
   "pygments_lexer": "ipython2",
   "version": "2.7.6"
  }
 },
 "nbformat": 4,
 "nbformat_minor": 5
}
